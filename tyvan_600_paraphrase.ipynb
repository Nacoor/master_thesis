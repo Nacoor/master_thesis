{
  "metadata": {
    "kernelspec": {
      "display_name": "Python 3",
      "name": "python3"
    },
    "language_info": {
      "name": "python",
      "version": "3.10.13",
      "mimetype": "text/x-python",
      "codemirror_mode": {
        "name": "ipython",
        "version": 3
      },
      "pygments_lexer": "ipython3",
      "nbconvert_exporter": "python",
      "file_extension": ".py"
    },
    "kaggle": {
      "accelerator": "nvidiaTeslaT4",
      "dataSources": [
        {
          "sourceId": 8420087,
          "sourceType": "datasetVersion",
          "datasetId": 5012626
        }
      ],
      "dockerImageVersionId": 30699,
      "isInternetEnabled": true,
      "language": "python",
      "sourceType": "notebook",
      "isGpuEnabled": true
    },
    "colab": {
      "provenance": [],
      "gpuType": "T4",
      "machine_shape": "hm"
    },
    "accelerator": "GPU",
    "widgets": {
      "application/vnd.jupyter.widget-state+json": {
        "f9060f38631745b09e3b1453d8972b8a": {
          "model_module": "@jupyter-widgets/controls",
          "model_name": "HBoxModel",
          "model_module_version": "1.5.0",
          "state": {
            "_dom_classes": [],
            "_model_module": "@jupyter-widgets/controls",
            "_model_module_version": "1.5.0",
            "_model_name": "HBoxModel",
            "_view_count": null,
            "_view_module": "@jupyter-widgets/controls",
            "_view_module_version": "1.5.0",
            "_view_name": "HBoxView",
            "box_style": "",
            "children": [
              "IPY_MODEL_b7105af1434a4c0ab2bbb2fd2d66260c",
              "IPY_MODEL_d09ec1ff52c84034954883a143696f0b",
              "IPY_MODEL_96de350bd016420780da841d4de284c3"
            ],
            "layout": "IPY_MODEL_58e52addde0049239c4a1fa6c4429a14"
          }
        },
        "b7105af1434a4c0ab2bbb2fd2d66260c": {
          "model_module": "@jupyter-widgets/controls",
          "model_name": "HTMLModel",
          "model_module_version": "1.5.0",
          "state": {
            "_dom_classes": [],
            "_model_module": "@jupyter-widgets/controls",
            "_model_module_version": "1.5.0",
            "_model_name": "HTMLModel",
            "_view_count": null,
            "_view_module": "@jupyter-widgets/controls",
            "_view_module_version": "1.5.0",
            "_view_name": "HTMLView",
            "description": "",
            "description_tooltip": null,
            "layout": "IPY_MODEL_85c9b2b347ec44629c8699bff459c53d",
            "placeholder": "​",
            "style": "IPY_MODEL_8bc39119dfd14f88b3b0c64a57803939",
            "value": "100%"
          }
        },
        "d09ec1ff52c84034954883a143696f0b": {
          "model_module": "@jupyter-widgets/controls",
          "model_name": "FloatProgressModel",
          "model_module_version": "1.5.0",
          "state": {
            "_dom_classes": [],
            "_model_module": "@jupyter-widgets/controls",
            "_model_module_version": "1.5.0",
            "_model_name": "FloatProgressModel",
            "_view_count": null,
            "_view_module": "@jupyter-widgets/controls",
            "_view_module_version": "1.5.0",
            "_view_name": "ProgressView",
            "bar_style": "success",
            "description": "",
            "description_tooltip": null,
            "layout": "IPY_MODEL_2b10832e0e30483895bc34454c715332",
            "max": 57000,
            "min": 0,
            "orientation": "horizontal",
            "style": "IPY_MODEL_c5004033073043a5a27e8433ece3fd10",
            "value": 57000
          }
        },
        "96de350bd016420780da841d4de284c3": {
          "model_module": "@jupyter-widgets/controls",
          "model_name": "HTMLModel",
          "model_module_version": "1.5.0",
          "state": {
            "_dom_classes": [],
            "_model_module": "@jupyter-widgets/controls",
            "_model_module_version": "1.5.0",
            "_model_name": "HTMLModel",
            "_view_count": null,
            "_view_module": "@jupyter-widgets/controls",
            "_view_module_version": "1.5.0",
            "_view_name": "HTMLView",
            "description": "",
            "description_tooltip": null,
            "layout": "IPY_MODEL_d696a773a3c348dc94447c38ec90b663",
            "placeholder": "​",
            "style": "IPY_MODEL_9df247da7967437cb44ab12e9d3c791a",
            "value": " 57000/57000 [10:43:43&lt;00:00,  1.22it/s]"
          }
        },
        "58e52addde0049239c4a1fa6c4429a14": {
          "model_module": "@jupyter-widgets/base",
          "model_name": "LayoutModel",
          "model_module_version": "1.2.0",
          "state": {
            "_model_module": "@jupyter-widgets/base",
            "_model_module_version": "1.2.0",
            "_model_name": "LayoutModel",
            "_view_count": null,
            "_view_module": "@jupyter-widgets/base",
            "_view_module_version": "1.2.0",
            "_view_name": "LayoutView",
            "align_content": null,
            "align_items": null,
            "align_self": null,
            "border": null,
            "bottom": null,
            "display": null,
            "flex": null,
            "flex_flow": null,
            "grid_area": null,
            "grid_auto_columns": null,
            "grid_auto_flow": null,
            "grid_auto_rows": null,
            "grid_column": null,
            "grid_gap": null,
            "grid_row": null,
            "grid_template_areas": null,
            "grid_template_columns": null,
            "grid_template_rows": null,
            "height": null,
            "justify_content": null,
            "justify_items": null,
            "left": null,
            "margin": null,
            "max_height": null,
            "max_width": null,
            "min_height": null,
            "min_width": null,
            "object_fit": null,
            "object_position": null,
            "order": null,
            "overflow": null,
            "overflow_x": null,
            "overflow_y": null,
            "padding": null,
            "right": null,
            "top": null,
            "visibility": null,
            "width": null
          }
        },
        "85c9b2b347ec44629c8699bff459c53d": {
          "model_module": "@jupyter-widgets/base",
          "model_name": "LayoutModel",
          "model_module_version": "1.2.0",
          "state": {
            "_model_module": "@jupyter-widgets/base",
            "_model_module_version": "1.2.0",
            "_model_name": "LayoutModel",
            "_view_count": null,
            "_view_module": "@jupyter-widgets/base",
            "_view_module_version": "1.2.0",
            "_view_name": "LayoutView",
            "align_content": null,
            "align_items": null,
            "align_self": null,
            "border": null,
            "bottom": null,
            "display": null,
            "flex": null,
            "flex_flow": null,
            "grid_area": null,
            "grid_auto_columns": null,
            "grid_auto_flow": null,
            "grid_auto_rows": null,
            "grid_column": null,
            "grid_gap": null,
            "grid_row": null,
            "grid_template_areas": null,
            "grid_template_columns": null,
            "grid_template_rows": null,
            "height": null,
            "justify_content": null,
            "justify_items": null,
            "left": null,
            "margin": null,
            "max_height": null,
            "max_width": null,
            "min_height": null,
            "min_width": null,
            "object_fit": null,
            "object_position": null,
            "order": null,
            "overflow": null,
            "overflow_x": null,
            "overflow_y": null,
            "padding": null,
            "right": null,
            "top": null,
            "visibility": null,
            "width": null
          }
        },
        "8bc39119dfd14f88b3b0c64a57803939": {
          "model_module": "@jupyter-widgets/controls",
          "model_name": "DescriptionStyleModel",
          "model_module_version": "1.5.0",
          "state": {
            "_model_module": "@jupyter-widgets/controls",
            "_model_module_version": "1.5.0",
            "_model_name": "DescriptionStyleModel",
            "_view_count": null,
            "_view_module": "@jupyter-widgets/base",
            "_view_module_version": "1.2.0",
            "_view_name": "StyleView",
            "description_width": ""
          }
        },
        "2b10832e0e30483895bc34454c715332": {
          "model_module": "@jupyter-widgets/base",
          "model_name": "LayoutModel",
          "model_module_version": "1.2.0",
          "state": {
            "_model_module": "@jupyter-widgets/base",
            "_model_module_version": "1.2.0",
            "_model_name": "LayoutModel",
            "_view_count": null,
            "_view_module": "@jupyter-widgets/base",
            "_view_module_version": "1.2.0",
            "_view_name": "LayoutView",
            "align_content": null,
            "align_items": null,
            "align_self": null,
            "border": null,
            "bottom": null,
            "display": null,
            "flex": null,
            "flex_flow": null,
            "grid_area": null,
            "grid_auto_columns": null,
            "grid_auto_flow": null,
            "grid_auto_rows": null,
            "grid_column": null,
            "grid_gap": null,
            "grid_row": null,
            "grid_template_areas": null,
            "grid_template_columns": null,
            "grid_template_rows": null,
            "height": null,
            "justify_content": null,
            "justify_items": null,
            "left": null,
            "margin": null,
            "max_height": null,
            "max_width": null,
            "min_height": null,
            "min_width": null,
            "object_fit": null,
            "object_position": null,
            "order": null,
            "overflow": null,
            "overflow_x": null,
            "overflow_y": null,
            "padding": null,
            "right": null,
            "top": null,
            "visibility": null,
            "width": null
          }
        },
        "c5004033073043a5a27e8433ece3fd10": {
          "model_module": "@jupyter-widgets/controls",
          "model_name": "ProgressStyleModel",
          "model_module_version": "1.5.0",
          "state": {
            "_model_module": "@jupyter-widgets/controls",
            "_model_module_version": "1.5.0",
            "_model_name": "ProgressStyleModel",
            "_view_count": null,
            "_view_module": "@jupyter-widgets/base",
            "_view_module_version": "1.2.0",
            "_view_name": "StyleView",
            "bar_color": null,
            "description_width": ""
          }
        },
        "d696a773a3c348dc94447c38ec90b663": {
          "model_module": "@jupyter-widgets/base",
          "model_name": "LayoutModel",
          "model_module_version": "1.2.0",
          "state": {
            "_model_module": "@jupyter-widgets/base",
            "_model_module_version": "1.2.0",
            "_model_name": "LayoutModel",
            "_view_count": null,
            "_view_module": "@jupyter-widgets/base",
            "_view_module_version": "1.2.0",
            "_view_name": "LayoutView",
            "align_content": null,
            "align_items": null,
            "align_self": null,
            "border": null,
            "bottom": null,
            "display": null,
            "flex": null,
            "flex_flow": null,
            "grid_area": null,
            "grid_auto_columns": null,
            "grid_auto_flow": null,
            "grid_auto_rows": null,
            "grid_column": null,
            "grid_gap": null,
            "grid_row": null,
            "grid_template_areas": null,
            "grid_template_columns": null,
            "grid_template_rows": null,
            "height": null,
            "justify_content": null,
            "justify_items": null,
            "left": null,
            "margin": null,
            "max_height": null,
            "max_width": null,
            "min_height": null,
            "min_width": null,
            "object_fit": null,
            "object_position": null,
            "order": null,
            "overflow": null,
            "overflow_x": null,
            "overflow_y": null,
            "padding": null,
            "right": null,
            "top": null,
            "visibility": null,
            "width": null
          }
        },
        "9df247da7967437cb44ab12e9d3c791a": {
          "model_module": "@jupyter-widgets/controls",
          "model_name": "DescriptionStyleModel",
          "model_module_version": "1.5.0",
          "state": {
            "_model_module": "@jupyter-widgets/controls",
            "_model_module_version": "1.5.0",
            "_model_name": "DescriptionStyleModel",
            "_view_count": null,
            "_view_module": "@jupyter-widgets/base",
            "_view_module_version": "1.2.0",
            "_view_name": "StyleView",
            "description_width": ""
          }
        },
        "01c508ac3aeb481685b9140efecdbd26": {
          "model_module": "@jupyter-widgets/controls",
          "model_name": "HBoxModel",
          "model_module_version": "1.5.0",
          "state": {
            "_dom_classes": [],
            "_model_module": "@jupyter-widgets/controls",
            "_model_module_version": "1.5.0",
            "_model_name": "HBoxModel",
            "_view_count": null,
            "_view_module": "@jupyter-widgets/controls",
            "_view_module_version": "1.5.0",
            "_view_name": "HBoxView",
            "box_style": "",
            "children": [
              "IPY_MODEL_6f558ef2871e4a3c83a37a741f31028e",
              "IPY_MODEL_5b722d9f09a742f4805d98495a4260e3",
              "IPY_MODEL_c7bbe9e95adb41358bc5b561332a23b1"
            ],
            "layout": "IPY_MODEL_c4e6fd27610741deaa0a1c65fd238aba"
          }
        },
        "6f558ef2871e4a3c83a37a741f31028e": {
          "model_module": "@jupyter-widgets/controls",
          "model_name": "HTMLModel",
          "model_module_version": "1.5.0",
          "state": {
            "_dom_classes": [],
            "_model_module": "@jupyter-widgets/controls",
            "_model_module_version": "1.5.0",
            "_model_name": "HTMLModel",
            "_view_count": null,
            "_view_module": "@jupyter-widgets/controls",
            "_view_module_version": "1.5.0",
            "_view_name": "HTMLView",
            "description": "",
            "description_tooltip": null,
            "layout": "IPY_MODEL_1b84146b6cd3466e97d068908b9eb49b",
            "placeholder": "​",
            "style": "IPY_MODEL_be82ab1140324886bde315fa15497cd8",
            "value": "sentencepiece.bpe.model: 100%"
          }
        },
        "5b722d9f09a742f4805d98495a4260e3": {
          "model_module": "@jupyter-widgets/controls",
          "model_name": "FloatProgressModel",
          "model_module_version": "1.5.0",
          "state": {
            "_dom_classes": [],
            "_model_module": "@jupyter-widgets/controls",
            "_model_module_version": "1.5.0",
            "_model_name": "FloatProgressModel",
            "_view_count": null,
            "_view_module": "@jupyter-widgets/controls",
            "_view_module_version": "1.5.0",
            "_view_name": "ProgressView",
            "bar_style": "success",
            "description": "",
            "description_tooltip": null,
            "layout": "IPY_MODEL_ca0540b8efcc41c0b0ab7c48d4b8eb8e",
            "max": 4852054,
            "min": 0,
            "orientation": "horizontal",
            "style": "IPY_MODEL_8e353ac3cf2f4b6c834083ee95c43e14",
            "value": 4852054
          }
        },
        "c7bbe9e95adb41358bc5b561332a23b1": {
          "model_module": "@jupyter-widgets/controls",
          "model_name": "HTMLModel",
          "model_module_version": "1.5.0",
          "state": {
            "_dom_classes": [],
            "_model_module": "@jupyter-widgets/controls",
            "_model_module_version": "1.5.0",
            "_model_name": "HTMLModel",
            "_view_count": null,
            "_view_module": "@jupyter-widgets/controls",
            "_view_module_version": "1.5.0",
            "_view_name": "HTMLView",
            "description": "",
            "description_tooltip": null,
            "layout": "IPY_MODEL_2e51eb6100914ab7bfd6e3c476e637ba",
            "placeholder": "​",
            "style": "IPY_MODEL_f781ca32ac7f4e7b8a3d8cd908d0aa4b",
            "value": " 4.85M/4.85M [00:00&lt;00:00, 15.1MB/s]"
          }
        },
        "c4e6fd27610741deaa0a1c65fd238aba": {
          "model_module": "@jupyter-widgets/base",
          "model_name": "LayoutModel",
          "model_module_version": "1.2.0",
          "state": {
            "_model_module": "@jupyter-widgets/base",
            "_model_module_version": "1.2.0",
            "_model_name": "LayoutModel",
            "_view_count": null,
            "_view_module": "@jupyter-widgets/base",
            "_view_module_version": "1.2.0",
            "_view_name": "LayoutView",
            "align_content": null,
            "align_items": null,
            "align_self": null,
            "border": null,
            "bottom": null,
            "display": null,
            "flex": null,
            "flex_flow": null,
            "grid_area": null,
            "grid_auto_columns": null,
            "grid_auto_flow": null,
            "grid_auto_rows": null,
            "grid_column": null,
            "grid_gap": null,
            "grid_row": null,
            "grid_template_areas": null,
            "grid_template_columns": null,
            "grid_template_rows": null,
            "height": null,
            "justify_content": null,
            "justify_items": null,
            "left": null,
            "margin": null,
            "max_height": null,
            "max_width": null,
            "min_height": null,
            "min_width": null,
            "object_fit": null,
            "object_position": null,
            "order": null,
            "overflow": null,
            "overflow_x": null,
            "overflow_y": null,
            "padding": null,
            "right": null,
            "top": null,
            "visibility": null,
            "width": null
          }
        },
        "1b84146b6cd3466e97d068908b9eb49b": {
          "model_module": "@jupyter-widgets/base",
          "model_name": "LayoutModel",
          "model_module_version": "1.2.0",
          "state": {
            "_model_module": "@jupyter-widgets/base",
            "_model_module_version": "1.2.0",
            "_model_name": "LayoutModel",
            "_view_count": null,
            "_view_module": "@jupyter-widgets/base",
            "_view_module_version": "1.2.0",
            "_view_name": "LayoutView",
            "align_content": null,
            "align_items": null,
            "align_self": null,
            "border": null,
            "bottom": null,
            "display": null,
            "flex": null,
            "flex_flow": null,
            "grid_area": null,
            "grid_auto_columns": null,
            "grid_auto_flow": null,
            "grid_auto_rows": null,
            "grid_column": null,
            "grid_gap": null,
            "grid_row": null,
            "grid_template_areas": null,
            "grid_template_columns": null,
            "grid_template_rows": null,
            "height": null,
            "justify_content": null,
            "justify_items": null,
            "left": null,
            "margin": null,
            "max_height": null,
            "max_width": null,
            "min_height": null,
            "min_width": null,
            "object_fit": null,
            "object_position": null,
            "order": null,
            "overflow": null,
            "overflow_x": null,
            "overflow_y": null,
            "padding": null,
            "right": null,
            "top": null,
            "visibility": null,
            "width": null
          }
        },
        "be82ab1140324886bde315fa15497cd8": {
          "model_module": "@jupyter-widgets/controls",
          "model_name": "DescriptionStyleModel",
          "model_module_version": "1.5.0",
          "state": {
            "_model_module": "@jupyter-widgets/controls",
            "_model_module_version": "1.5.0",
            "_model_name": "DescriptionStyleModel",
            "_view_count": null,
            "_view_module": "@jupyter-widgets/base",
            "_view_module_version": "1.2.0",
            "_view_name": "StyleView",
            "description_width": ""
          }
        },
        "ca0540b8efcc41c0b0ab7c48d4b8eb8e": {
          "model_module": "@jupyter-widgets/base",
          "model_name": "LayoutModel",
          "model_module_version": "1.2.0",
          "state": {
            "_model_module": "@jupyter-widgets/base",
            "_model_module_version": "1.2.0",
            "_model_name": "LayoutModel",
            "_view_count": null,
            "_view_module": "@jupyter-widgets/base",
            "_view_module_version": "1.2.0",
            "_view_name": "LayoutView",
            "align_content": null,
            "align_items": null,
            "align_self": null,
            "border": null,
            "bottom": null,
            "display": null,
            "flex": null,
            "flex_flow": null,
            "grid_area": null,
            "grid_auto_columns": null,
            "grid_auto_flow": null,
            "grid_auto_rows": null,
            "grid_column": null,
            "grid_gap": null,
            "grid_row": null,
            "grid_template_areas": null,
            "grid_template_columns": null,
            "grid_template_rows": null,
            "height": null,
            "justify_content": null,
            "justify_items": null,
            "left": null,
            "margin": null,
            "max_height": null,
            "max_width": null,
            "min_height": null,
            "min_width": null,
            "object_fit": null,
            "object_position": null,
            "order": null,
            "overflow": null,
            "overflow_x": null,
            "overflow_y": null,
            "padding": null,
            "right": null,
            "top": null,
            "visibility": null,
            "width": null
          }
        },
        "8e353ac3cf2f4b6c834083ee95c43e14": {
          "model_module": "@jupyter-widgets/controls",
          "model_name": "ProgressStyleModel",
          "model_module_version": "1.5.0",
          "state": {
            "_model_module": "@jupyter-widgets/controls",
            "_model_module_version": "1.5.0",
            "_model_name": "ProgressStyleModel",
            "_view_count": null,
            "_view_module": "@jupyter-widgets/base",
            "_view_module_version": "1.2.0",
            "_view_name": "StyleView",
            "bar_color": null,
            "description_width": ""
          }
        },
        "2e51eb6100914ab7bfd6e3c476e637ba": {
          "model_module": "@jupyter-widgets/base",
          "model_name": "LayoutModel",
          "model_module_version": "1.2.0",
          "state": {
            "_model_module": "@jupyter-widgets/base",
            "_model_module_version": "1.2.0",
            "_model_name": "LayoutModel",
            "_view_count": null,
            "_view_module": "@jupyter-widgets/base",
            "_view_module_version": "1.2.0",
            "_view_name": "LayoutView",
            "align_content": null,
            "align_items": null,
            "align_self": null,
            "border": null,
            "bottom": null,
            "display": null,
            "flex": null,
            "flex_flow": null,
            "grid_area": null,
            "grid_auto_columns": null,
            "grid_auto_flow": null,
            "grid_auto_rows": null,
            "grid_column": null,
            "grid_gap": null,
            "grid_row": null,
            "grid_template_areas": null,
            "grid_template_columns": null,
            "grid_template_rows": null,
            "height": null,
            "justify_content": null,
            "justify_items": null,
            "left": null,
            "margin": null,
            "max_height": null,
            "max_width": null,
            "min_height": null,
            "min_width": null,
            "object_fit": null,
            "object_position": null,
            "order": null,
            "overflow": null,
            "overflow_x": null,
            "overflow_y": null,
            "padding": null,
            "right": null,
            "top": null,
            "visibility": null,
            "width": null
          }
        },
        "f781ca32ac7f4e7b8a3d8cd908d0aa4b": {
          "model_module": "@jupyter-widgets/controls",
          "model_name": "DescriptionStyleModel",
          "model_module_version": "1.5.0",
          "state": {
            "_model_module": "@jupyter-widgets/controls",
            "_model_module_version": "1.5.0",
            "_model_name": "DescriptionStyleModel",
            "_view_count": null,
            "_view_module": "@jupyter-widgets/base",
            "_view_module_version": "1.2.0",
            "_view_name": "StyleView",
            "description_width": ""
          }
        },
        "2d853b22ed6a4f1fa10ef000e9b38380": {
          "model_module": "@jupyter-widgets/controls",
          "model_name": "HBoxModel",
          "model_module_version": "1.5.0",
          "state": {
            "_dom_classes": [],
            "_model_module": "@jupyter-widgets/controls",
            "_model_module_version": "1.5.0",
            "_model_name": "HBoxModel",
            "_view_count": null,
            "_view_module": "@jupyter-widgets/controls",
            "_view_module_version": "1.5.0",
            "_view_name": "HBoxView",
            "box_style": "",
            "children": [
              "IPY_MODEL_b8f243b058a945a88822b5db09a855da",
              "IPY_MODEL_c369a5439c4c40a69e33f8ba963e95e4",
              "IPY_MODEL_82c6c6690eeb45c990bde8c616719319"
            ],
            "layout": "IPY_MODEL_294bf058233b4977bc6ea36bbdec248e"
          }
        },
        "b8f243b058a945a88822b5db09a855da": {
          "model_module": "@jupyter-widgets/controls",
          "model_name": "HTMLModel",
          "model_module_version": "1.5.0",
          "state": {
            "_dom_classes": [],
            "_model_module": "@jupyter-widgets/controls",
            "_model_module_version": "1.5.0",
            "_model_name": "HTMLModel",
            "_view_count": null,
            "_view_module": "@jupyter-widgets/controls",
            "_view_module_version": "1.5.0",
            "_view_name": "HTMLView",
            "description": "",
            "description_tooltip": null,
            "layout": "IPY_MODEL_2ffa04fce0b84d9bb8fddeff306fcf39",
            "placeholder": "​",
            "style": "IPY_MODEL_e1c3510fcb914719907b34c72cad9c31",
            "value": "pytorch_model.bin: 100%"
          }
        },
        "c369a5439c4c40a69e33f8ba963e95e4": {
          "model_module": "@jupyter-widgets/controls",
          "model_name": "FloatProgressModel",
          "model_module_version": "1.5.0",
          "state": {
            "_dom_classes": [],
            "_model_module": "@jupyter-widgets/controls",
            "_model_module_version": "1.5.0",
            "_model_name": "FloatProgressModel",
            "_view_count": null,
            "_view_module": "@jupyter-widgets/controls",
            "_view_module_version": "1.5.0",
            "_view_name": "ProgressView",
            "bar_style": "success",
            "description": "",
            "description_tooltip": null,
            "layout": "IPY_MODEL_be71fb8bbe474ac7a5b639857ce63e9f",
            "max": 2460465086,
            "min": 0,
            "orientation": "horizontal",
            "style": "IPY_MODEL_db2be9c015554ffcb63401b1513924c0",
            "value": 2460465086
          }
        },
        "82c6c6690eeb45c990bde8c616719319": {
          "model_module": "@jupyter-widgets/controls",
          "model_name": "HTMLModel",
          "model_module_version": "1.5.0",
          "state": {
            "_dom_classes": [],
            "_model_module": "@jupyter-widgets/controls",
            "_model_module_version": "1.5.0",
            "_model_name": "HTMLModel",
            "_view_count": null,
            "_view_module": "@jupyter-widgets/controls",
            "_view_module_version": "1.5.0",
            "_view_name": "HTMLView",
            "description": "",
            "description_tooltip": null,
            "layout": "IPY_MODEL_1db0930f8ccc427eb76cb7289d276703",
            "placeholder": "​",
            "style": "IPY_MODEL_97c0587b00294f858fd65f225a9ebacf",
            "value": " 2.46G/2.46G [00:50&lt;00:00, 49.0MB/s]"
          }
        },
        "294bf058233b4977bc6ea36bbdec248e": {
          "model_module": "@jupyter-widgets/base",
          "model_name": "LayoutModel",
          "model_module_version": "1.2.0",
          "state": {
            "_model_module": "@jupyter-widgets/base",
            "_model_module_version": "1.2.0",
            "_model_name": "LayoutModel",
            "_view_count": null,
            "_view_module": "@jupyter-widgets/base",
            "_view_module_version": "1.2.0",
            "_view_name": "LayoutView",
            "align_content": null,
            "align_items": null,
            "align_self": null,
            "border": null,
            "bottom": null,
            "display": null,
            "flex": null,
            "flex_flow": null,
            "grid_area": null,
            "grid_auto_columns": null,
            "grid_auto_flow": null,
            "grid_auto_rows": null,
            "grid_column": null,
            "grid_gap": null,
            "grid_row": null,
            "grid_template_areas": null,
            "grid_template_columns": null,
            "grid_template_rows": null,
            "height": null,
            "justify_content": null,
            "justify_items": null,
            "left": null,
            "margin": null,
            "max_height": null,
            "max_width": null,
            "min_height": null,
            "min_width": null,
            "object_fit": null,
            "object_position": null,
            "order": null,
            "overflow": null,
            "overflow_x": null,
            "overflow_y": null,
            "padding": null,
            "right": null,
            "top": null,
            "visibility": null,
            "width": null
          }
        },
        "2ffa04fce0b84d9bb8fddeff306fcf39": {
          "model_module": "@jupyter-widgets/base",
          "model_name": "LayoutModel",
          "model_module_version": "1.2.0",
          "state": {
            "_model_module": "@jupyter-widgets/base",
            "_model_module_version": "1.2.0",
            "_model_name": "LayoutModel",
            "_view_count": null,
            "_view_module": "@jupyter-widgets/base",
            "_view_module_version": "1.2.0",
            "_view_name": "LayoutView",
            "align_content": null,
            "align_items": null,
            "align_self": null,
            "border": null,
            "bottom": null,
            "display": null,
            "flex": null,
            "flex_flow": null,
            "grid_area": null,
            "grid_auto_columns": null,
            "grid_auto_flow": null,
            "grid_auto_rows": null,
            "grid_column": null,
            "grid_gap": null,
            "grid_row": null,
            "grid_template_areas": null,
            "grid_template_columns": null,
            "grid_template_rows": null,
            "height": null,
            "justify_content": null,
            "justify_items": null,
            "left": null,
            "margin": null,
            "max_height": null,
            "max_width": null,
            "min_height": null,
            "min_width": null,
            "object_fit": null,
            "object_position": null,
            "order": null,
            "overflow": null,
            "overflow_x": null,
            "overflow_y": null,
            "padding": null,
            "right": null,
            "top": null,
            "visibility": null,
            "width": null
          }
        },
        "e1c3510fcb914719907b34c72cad9c31": {
          "model_module": "@jupyter-widgets/controls",
          "model_name": "DescriptionStyleModel",
          "model_module_version": "1.5.0",
          "state": {
            "_model_module": "@jupyter-widgets/controls",
            "_model_module_version": "1.5.0",
            "_model_name": "DescriptionStyleModel",
            "_view_count": null,
            "_view_module": "@jupyter-widgets/base",
            "_view_module_version": "1.2.0",
            "_view_name": "StyleView",
            "description_width": ""
          }
        },
        "be71fb8bbe474ac7a5b639857ce63e9f": {
          "model_module": "@jupyter-widgets/base",
          "model_name": "LayoutModel",
          "model_module_version": "1.2.0",
          "state": {
            "_model_module": "@jupyter-widgets/base",
            "_model_module_version": "1.2.0",
            "_model_name": "LayoutModel",
            "_view_count": null,
            "_view_module": "@jupyter-widgets/base",
            "_view_module_version": "1.2.0",
            "_view_name": "LayoutView",
            "align_content": null,
            "align_items": null,
            "align_self": null,
            "border": null,
            "bottom": null,
            "display": null,
            "flex": null,
            "flex_flow": null,
            "grid_area": null,
            "grid_auto_columns": null,
            "grid_auto_flow": null,
            "grid_auto_rows": null,
            "grid_column": null,
            "grid_gap": null,
            "grid_row": null,
            "grid_template_areas": null,
            "grid_template_columns": null,
            "grid_template_rows": null,
            "height": null,
            "justify_content": null,
            "justify_items": null,
            "left": null,
            "margin": null,
            "max_height": null,
            "max_width": null,
            "min_height": null,
            "min_width": null,
            "object_fit": null,
            "object_position": null,
            "order": null,
            "overflow": null,
            "overflow_x": null,
            "overflow_y": null,
            "padding": null,
            "right": null,
            "top": null,
            "visibility": null,
            "width": null
          }
        },
        "db2be9c015554ffcb63401b1513924c0": {
          "model_module": "@jupyter-widgets/controls",
          "model_name": "ProgressStyleModel",
          "model_module_version": "1.5.0",
          "state": {
            "_model_module": "@jupyter-widgets/controls",
            "_model_module_version": "1.5.0",
            "_model_name": "ProgressStyleModel",
            "_view_count": null,
            "_view_module": "@jupyter-widgets/base",
            "_view_module_version": "1.2.0",
            "_view_name": "StyleView",
            "bar_color": null,
            "description_width": ""
          }
        },
        "1db0930f8ccc427eb76cb7289d276703": {
          "model_module": "@jupyter-widgets/base",
          "model_name": "LayoutModel",
          "model_module_version": "1.2.0",
          "state": {
            "_model_module": "@jupyter-widgets/base",
            "_model_module_version": "1.2.0",
            "_model_name": "LayoutModel",
            "_view_count": null,
            "_view_module": "@jupyter-widgets/base",
            "_view_module_version": "1.2.0",
            "_view_name": "LayoutView",
            "align_content": null,
            "align_items": null,
            "align_self": null,
            "border": null,
            "bottom": null,
            "display": null,
            "flex": null,
            "flex_flow": null,
            "grid_area": null,
            "grid_auto_columns": null,
            "grid_auto_flow": null,
            "grid_auto_rows": null,
            "grid_column": null,
            "grid_gap": null,
            "grid_row": null,
            "grid_template_areas": null,
            "grid_template_columns": null,
            "grid_template_rows": null,
            "height": null,
            "justify_content": null,
            "justify_items": null,
            "left": null,
            "margin": null,
            "max_height": null,
            "max_width": null,
            "min_height": null,
            "min_width": null,
            "object_fit": null,
            "object_position": null,
            "order": null,
            "overflow": null,
            "overflow_x": null,
            "overflow_y": null,
            "padding": null,
            "right": null,
            "top": null,
            "visibility": null,
            "width": null
          }
        },
        "97c0587b00294f858fd65f225a9ebacf": {
          "model_module": "@jupyter-widgets/controls",
          "model_name": "DescriptionStyleModel",
          "model_module_version": "1.5.0",
          "state": {
            "_model_module": "@jupyter-widgets/controls",
            "_model_module_version": "1.5.0",
            "_model_name": "DescriptionStyleModel",
            "_view_count": null,
            "_view_module": "@jupyter-widgets/base",
            "_view_module_version": "1.2.0",
            "_view_name": "StyleView",
            "description_width": ""
          }
        }
      }
    }
  },
  "nbformat_minor": 0,
  "nbformat": 4,
  "cells": [
    {
      "cell_type": "code",
      "source": [
        "!pip install editdistance\n",
        "!pip install sentencepiece transformers==4.33 datasets sacremoses sacrebleu  -q\n",
        "!pip install editdistance\n",
        "\n",
        "import locale\n",
        "import pandas as pd\n",
        "import numpy as np\n",
        "import re\n",
        "import sys\n",
        "import typing as tp\n",
        "import unicodedata\n",
        "import gc\n",
        "import random\n",
        "import torch\n",
        "import sacrebleu\n",
        "import editdistance\n",
        "from sklearn.model_selection import train_test_split\n",
        "from transformers import NllbTokenizer, AutoModelForSeq2SeqLM, AutoConfig, get_constant_schedule_with_warmup, pipeline\n",
        "from tqdm.auto import tqdm, trange\n",
        "from transformers.optimization import Adafactor\n",
        "from sacremoses import MosesPunctNormalizer\n",
        "from transformers import MarianMTModel, MarianTokenizer\n",
        "from tqdm import tqdm\n",
        "\n",
        "pd.options.display.max_colwidth = 100"
      ],
      "metadata": {
        "execution": {
          "iopub.status.busy": "2024-05-18T10:52:10.041807Z",
          "iopub.execute_input": "2024-05-18T10:52:10.042144Z",
          "iopub.status.idle": "2024-05-18T10:53:20.496668Z",
          "shell.execute_reply.started": "2024-05-18T10:52:10.042118Z",
          "shell.execute_reply": "2024-05-18T10:53:20.495588Z"
        },
        "trusted": true,
        "colab": {
          "base_uri": "https://localhost:8080/"
        },
        "id": "9KpuHoWtnUMK",
        "outputId": "cd38fcc6-659c-492f-a908-393a8119a856"
      },
      "execution_count": 1,
      "outputs": [
        {
          "output_type": "stream",
          "name": "stdout",
          "text": [
            "Requirement already satisfied: editdistance in /usr/local/lib/python3.10/dist-packages (0.6.2)\n",
            "Requirement already satisfied: editdistance in /usr/local/lib/python3.10/dist-packages (0.6.2)\n"
          ]
        },
        {
          "output_type": "stream",
          "name": "stderr",
          "text": [
            "/usr/local/lib/python3.10/dist-packages/transformers/utils/generic.py:311: UserWarning: torch.utils._pytree._register_pytree_node is deprecated. Please use torch.utils._pytree.register_pytree_node instead.\n",
            "  torch.utils._pytree._register_pytree_node(\n"
          ]
        }
      ]
    },
    {
      "cell_type": "code",
      "source": [
        "trans_df = pd.read_csv('trans_df.csv')\n",
        "\n",
        "trans_df.drop(columns = 'Unnamed: 0', inplace = True)\n",
        "trans_df = trans_df[trans_df.ru.notna()]\n",
        "print(trans_df.isnull().sum())\n",
        "\n",
        "print(trans_df.split.value_counts())\n",
        "\n",
        "df_train = trans_df[trans_df.split=='train'].copy()\n",
        "df_dev = trans_df[trans_df.split=='dev'].copy()\n",
        "df_test = trans_df[trans_df.split=='test'].copy()"
      ],
      "metadata": {
        "execution": {
          "iopub.status.busy": "2024-05-18T10:54:29.659955Z",
          "iopub.execute_input": "2024-05-18T10:54:29.660323Z",
          "iopub.status.idle": "2024-05-18T10:54:30.179278Z",
          "shell.execute_reply.started": "2024-05-18T10:54:29.660294Z",
          "shell.execute_reply": "2024-05-18T10:54:30.178200Z"
        },
        "trusted": true,
        "colab": {
          "base_uri": "https://localhost:8080/"
        },
        "id": "CZpa5WcfnUML",
        "outputId": "9fc6af5b-c87a-45a5-fa55-3400360ebb4f"
      },
      "execution_count": 2,
      "outputs": [
        {
          "output_type": "stream",
          "name": "stdout",
          "text": [
            "ru       0\n",
            "tyv      0\n",
            "split    0\n",
            "dtype: int64\n",
            "split\n",
            "train    108183\n",
            "test       5000\n",
            "dev        4999\n",
            "Name: count, dtype: int64\n"
          ]
        }
      ]
    },
    {
      "cell_type": "code",
      "source": [
        "additional_sentences_ru = []\n",
        "additional_sentences_tyv = []\n",
        "\n",
        "for sentence_tyv, sentence_ru in zip(df_train.tyv, df_train.ru):\n",
        "  sentence_split = sentence_ru.split(' ')\n",
        "  if len(sentence_split) > 5:\n",
        "    additional_sentences_ru.append(sentence_ru)\n",
        "    additional_sentences_tyv.append(sentence_tyv)\n",
        "\n",
        "print(len(additional_sentences_ru))\n",
        "print(len(additional_sentences_tyv))"
      ],
      "metadata": {
        "colab": {
          "base_uri": "https://localhost:8080/"
        },
        "id": "XiPaZkbHgmVl",
        "outputId": "644e9b0e-e5d5-4c1b-913e-6af5bdf84679"
      },
      "execution_count": 3,
      "outputs": [
        {
          "output_type": "stream",
          "name": "stdout",
          "text": [
            "20700\n",
            "20700\n"
          ]
        }
      ]
    },
    {
      "cell_type": "code",
      "source": [
        "additional_sentences_ru[0] = 'листья нужно ошпаривать кипятком в течение 5 минут'"
      ],
      "metadata": {
        "id": "m3njutiL0dAf"
      },
      "execution_count": 4,
      "outputs": []
    },
    {
      "cell_type": "code",
      "source": [
        "model_name_ru_fr = 'Helsinki-NLP/opus-mt-ru-fr'\n",
        "tokenizer_ru_fr = MarianTokenizer.from_pretrained(model_name_ru_fr)\n",
        "model_ru_fr = MarianMTModel.from_pretrained(model_name_ru_fr)\n",
        "\n",
        "# Load the tokenizer and model for French to Russian translation\n",
        "model_name_fr_ru = 'Helsinki-NLP/opus-mt-fr-ru'\n",
        "tokenizer_fr_ru = MarianTokenizer.from_pretrained(model_name_fr_ru)\n",
        "model_fr_ru = MarianMTModel.from_pretrained(model_name_fr_ru)\n",
        "\n",
        "# Move models to GPU if available\n",
        "device = torch.device('cuda' if torch.cuda.is_available() else 'cpu')\n",
        "model_ru_fr.to(device)\n",
        "model_fr_ru.to(device)\n",
        "\n",
        "def translate_and_back(sentences):\n",
        "    # Tokenize the sentences for Russian to French\n",
        "    inputs_ru_fr = tokenizer_ru_fr(sentences, return_tensors='pt', padding=True, truncation=True).to(device)\n",
        "\n",
        "    # Translate from Russian to French\n",
        "    with torch.no_grad():\n",
        "        translated_fr = model_ru_fr.generate(**inputs_ru_fr)\n",
        "\n",
        "    # Decode the French sentences\n",
        "    french_sentences = [tokenizer_ru_fr.decode(t, skip_special_tokens=True) for t in translated_fr]\n",
        "\n",
        "    # Tokenize the French sentences for French to Russian\n",
        "    inputs_fr_ru = tokenizer_fr_ru(french_sentences, return_tensors='pt', padding=True, truncation=True).to(device)\n",
        "\n",
        "    # Translate from French to Russian\n",
        "    with torch.no_grad():\n",
        "        translated_ru = model_fr_ru.generate(**inputs_fr_ru)\n",
        "\n",
        "    # Decode the Russian sentences\n",
        "    final_sentences = [tokenizer_fr_ru.decode(t, skip_special_tokens=True) for t in translated_ru]\n",
        "\n",
        "    return final_sentences"
      ],
      "metadata": {
        "colab": {
          "base_uri": "https://localhost:8080/"
        },
        "id": "Q5NfMJCYzXUG",
        "outputId": "2dffae68-4dd2-4af7-d57d-34760bcc7b04"
      },
      "execution_count": 5,
      "outputs": [
        {
          "output_type": "stream",
          "name": "stderr",
          "text": [
            "/usr/local/lib/python3.10/dist-packages/huggingface_hub/file_download.py:1132: FutureWarning: `resume_download` is deprecated and will be removed in version 1.0.0. Downloads always resume when possible. If you want to force a new download, use `force_download=True`.\n",
            "  warnings.warn(\n",
            "/usr/local/lib/python3.10/dist-packages/huggingface_hub/utils/_token.py:89: UserWarning: \n",
            "The secret `HF_TOKEN` does not exist in your Colab secrets.\n",
            "To authenticate with the Hugging Face Hub, create a token in your settings tab (https://huggingface.co/settings/tokens), set it as secret in your Google Colab and restart your session.\n",
            "You will be able to reuse this secret in all of your notebooks.\n",
            "Please note that authentication is recommended but still optional to access public models or datasets.\n",
            "  warnings.warn(\n"
          ]
        }
      ]
    },
    {
      "cell_type": "code",
      "source": [
        "sentences = [additional_sentences_ru[0], additional_sentences_ru[1]]\n",
        "\n",
        "# Translate and back-translate the sentences\n",
        "final_sentences = translate_and_back(sentences)\n",
        "\n",
        "print(final_sentences)"
      ],
      "metadata": {
        "colab": {
          "base_uri": "https://localhost:8080/"
        },
        "id": "HvINwtqD0JcQ",
        "outputId": "cb1351d1-d72c-49b9-f64b-60645bce75e4"
      },
      "execution_count": 117,
      "outputs": [
        {
          "output_type": "stream",
          "name": "stdout",
          "text": [
            "['Листьи должны быть очищены в течение 5 минут.', 'Поэтому вы можете начать учиться помогать другим и служить им.']\n"
          ]
        }
      ]
    },
    {
      "cell_type": "code",
      "source": [
        "additional_sentences_ru_back_translated = [translate_and_back(sentence) for sentence in tqdm(additional_sentences_ru)]"
      ],
      "metadata": {
        "colab": {
          "base_uri": "https://localhost:8080/"
        },
        "id": "F1yHCWOguYNh",
        "outputId": "c722afc5-88c7-474a-e96c-c5a72ccaa507"
      },
      "execution_count": 6,
      "outputs": [
        {
          "output_type": "stream",
          "name": "stderr",
          "text": [
            "100%|██████████| 20700/20700 [2:47:55<00:00,  2.05it/s]\n"
          ]
        }
      ]
    },
    {
      "cell_type": "code",
      "source": [
        "df_additional = pd.DataFrame(additional_sentences_ru_back_translated, columns = ['ru'])\n",
        "df_additional['tyv'] = additional_sentences_tyv\n",
        "df_additional"
      ],
      "metadata": {
        "colab": {
          "base_uri": "https://localhost:8080/",
          "height": 563
        },
        "id": "Rc4UjTtJiY5c",
        "outputId": "242f96f4-fc10-4b8c-b498-8c5384a31850"
      },
      "execution_count": 8,
      "outputs": [
        {
          "output_type": "execute_result",
          "data": {
            "text/plain": [
              "                                                                                                        ru  \\\n",
              "0                                                            Листьи должны быть очищены в течение 5 минут.   \n",
              "1                                           Поэтому вы можете начать учиться помогать другим и служить им.   \n",
              "2                    После прошлых дней Елизавет, его жена, начала болтать и ехать в течение пяти месяцев.   \n",
              "3                 И вы увидите Сына человека, сидящего на силе человека и направляющегося к облакам небес.   \n",
              "4                                                                 Он был профессором и помощником пастора.   \n",
              "...                                                                                                    ...   \n",
              "20695                                                   У семьи Дёрсли было все, что мы могли бы пожелать.   \n",
              "20696                                                                         Я сделал то, что вы сказали.   \n",
              "20697                                                                         Это осень, но всё же горячо.   \n",
              "20698                                              Вы имеете право верить или не верить в изучение Библии.   \n",
              "20699  В беспомощные времена бодхиатва Авалокитешвара поклялся в Будде Амитабхе и тысячах буддистов, ко...   \n",
              "\n",
              "                                                                                                       tyv  \n",
              "0                                              савой капустазының бүрүлерин 5 минуттуң дургузунда чымчадыр  \n",
              "1              Ынчангаш өскелерге дузалап база оларның чаагай чоруу дээш бараан болуп эгелеп шыдаар силер.  \n",
              "2      Элээн үе эрткен соонда, ооң кадайы Елисавета иштели бергеш, оозун беш ай дургузунда өске улустан...  \n",
              "3      Моон соңгаар силер шупту Кижи амытан Оглунуң Күчүлүг Бурганның оң талазында олурарын база дээрни...  \n",
              "4                   ол башкының болгаш хүрээниң удуртукчу башкызының дузалакчызының ажылын күүседип турган  \n",
              "...                                                                                                    ...  \n",
              "20695                    Оглунуң шупту күзээн чүүлдерин хандырып, чаг иштинде бүүрек дег өстүрүп органнар.  \n",
              "20696                                                            Мен силерниң чугаалааныңар ёзугаар кылдым  \n",
              "20697                                                                          күс-даа болза, ам-даа чылыг  \n",
              "20698                                 Библияның өөредиинге бүзүрээрин, бүзүревезин боттарыңар билир силер.  \n",
              "20699  Ченрези бурган Амитабха бурганның болгаш бо үе-чаданың муң буддаларының мурнунга амылыг амытанна...  \n",
              "\n",
              "[20700 rows x 2 columns]"
            ],
            "text/html": [
              "\n",
              "  <div id=\"df-35bb0392-77ab-4b89-9e2e-a893a3829b6a\" class=\"colab-df-container\">\n",
              "    <div>\n",
              "<style scoped>\n",
              "    .dataframe tbody tr th:only-of-type {\n",
              "        vertical-align: middle;\n",
              "    }\n",
              "\n",
              "    .dataframe tbody tr th {\n",
              "        vertical-align: top;\n",
              "    }\n",
              "\n",
              "    .dataframe thead th {\n",
              "        text-align: right;\n",
              "    }\n",
              "</style>\n",
              "<table border=\"1\" class=\"dataframe\">\n",
              "  <thead>\n",
              "    <tr style=\"text-align: right;\">\n",
              "      <th></th>\n",
              "      <th>ru</th>\n",
              "      <th>tyv</th>\n",
              "    </tr>\n",
              "  </thead>\n",
              "  <tbody>\n",
              "    <tr>\n",
              "      <th>0</th>\n",
              "      <td>Листьи должны быть очищены в течение 5 минут.</td>\n",
              "      <td>савой капустазының бүрүлерин 5 минуттуң дургузунда чымчадыр</td>\n",
              "    </tr>\n",
              "    <tr>\n",
              "      <th>1</th>\n",
              "      <td>Поэтому вы можете начать учиться помогать другим и служить им.</td>\n",
              "      <td>Ынчангаш өскелерге дузалап база оларның чаагай чоруу дээш бараан болуп эгелеп шыдаар силер.</td>\n",
              "    </tr>\n",
              "    <tr>\n",
              "      <th>2</th>\n",
              "      <td>После прошлых дней Елизавет, его жена, начала болтать и ехать в течение пяти месяцев.</td>\n",
              "      <td>Элээн үе эрткен соонда, ооң кадайы Елисавета иштели бергеш, оозун беш ай дургузунда өске улустан...</td>\n",
              "    </tr>\n",
              "    <tr>\n",
              "      <th>3</th>\n",
              "      <td>И вы увидите Сына человека, сидящего на силе человека и направляющегося к облакам небес.</td>\n",
              "      <td>Моон соңгаар силер шупту Кижи амытан Оглунуң Күчүлүг Бурганның оң талазында олурарын база дээрни...</td>\n",
              "    </tr>\n",
              "    <tr>\n",
              "      <th>4</th>\n",
              "      <td>Он был профессором и помощником пастора.</td>\n",
              "      <td>ол башкының болгаш хүрээниң удуртукчу башкызының дузалакчызының ажылын күүседип турган</td>\n",
              "    </tr>\n",
              "    <tr>\n",
              "      <th>...</th>\n",
              "      <td>...</td>\n",
              "      <td>...</td>\n",
              "    </tr>\n",
              "    <tr>\n",
              "      <th>20695</th>\n",
              "      <td>У семьи Дёрсли было все, что мы могли бы пожелать.</td>\n",
              "      <td>Оглунуң шупту күзээн чүүлдерин хандырып, чаг иштинде бүүрек дег өстүрүп органнар.</td>\n",
              "    </tr>\n",
              "    <tr>\n",
              "      <th>20696</th>\n",
              "      <td>Я сделал то, что вы сказали.</td>\n",
              "      <td>Мен силерниң чугаалааныңар ёзугаар кылдым</td>\n",
              "    </tr>\n",
              "    <tr>\n",
              "      <th>20697</th>\n",
              "      <td>Это осень, но всё же горячо.</td>\n",
              "      <td>күс-даа болза, ам-даа чылыг</td>\n",
              "    </tr>\n",
              "    <tr>\n",
              "      <th>20698</th>\n",
              "      <td>Вы имеете право верить или не верить в изучение Библии.</td>\n",
              "      <td>Библияның өөредиинге бүзүрээрин, бүзүревезин боттарыңар билир силер.</td>\n",
              "    </tr>\n",
              "    <tr>\n",
              "      <th>20699</th>\n",
              "      <td>В беспомощные времена бодхиатва Авалокитешвара поклялся в Будде Амитабхе и тысячах буддистов, ко...</td>\n",
              "      <td>Ченрези бурган Амитабха бурганның болгаш бо үе-чаданың муң буддаларының мурнунга амылыг амытанна...</td>\n",
              "    </tr>\n",
              "  </tbody>\n",
              "</table>\n",
              "<p>20700 rows × 2 columns</p>\n",
              "</div>\n",
              "    <div class=\"colab-df-buttons\">\n",
              "\n",
              "  <div class=\"colab-df-container\">\n",
              "    <button class=\"colab-df-convert\" onclick=\"convertToInteractive('df-35bb0392-77ab-4b89-9e2e-a893a3829b6a')\"\n",
              "            title=\"Convert this dataframe to an interactive table.\"\n",
              "            style=\"display:none;\">\n",
              "\n",
              "  <svg xmlns=\"http://www.w3.org/2000/svg\" height=\"24px\" viewBox=\"0 -960 960 960\">\n",
              "    <path d=\"M120-120v-720h720v720H120Zm60-500h600v-160H180v160Zm220 220h160v-160H400v160Zm0 220h160v-160H400v160ZM180-400h160v-160H180v160Zm440 0h160v-160H620v160ZM180-180h160v-160H180v160Zm440 0h160v-160H620v160Z\"/>\n",
              "  </svg>\n",
              "    </button>\n",
              "\n",
              "  <style>\n",
              "    .colab-df-container {\n",
              "      display:flex;\n",
              "      gap: 12px;\n",
              "    }\n",
              "\n",
              "    .colab-df-convert {\n",
              "      background-color: #E8F0FE;\n",
              "      border: none;\n",
              "      border-radius: 50%;\n",
              "      cursor: pointer;\n",
              "      display: none;\n",
              "      fill: #1967D2;\n",
              "      height: 32px;\n",
              "      padding: 0 0 0 0;\n",
              "      width: 32px;\n",
              "    }\n",
              "\n",
              "    .colab-df-convert:hover {\n",
              "      background-color: #E2EBFA;\n",
              "      box-shadow: 0px 1px 2px rgba(60, 64, 67, 0.3), 0px 1px 3px 1px rgba(60, 64, 67, 0.15);\n",
              "      fill: #174EA6;\n",
              "    }\n",
              "\n",
              "    .colab-df-buttons div {\n",
              "      margin-bottom: 4px;\n",
              "    }\n",
              "\n",
              "    [theme=dark] .colab-df-convert {\n",
              "      background-color: #3B4455;\n",
              "      fill: #D2E3FC;\n",
              "    }\n",
              "\n",
              "    [theme=dark] .colab-df-convert:hover {\n",
              "      background-color: #434B5C;\n",
              "      box-shadow: 0px 1px 3px 1px rgba(0, 0, 0, 0.15);\n",
              "      filter: drop-shadow(0px 1px 2px rgba(0, 0, 0, 0.3));\n",
              "      fill: #FFFFFF;\n",
              "    }\n",
              "  </style>\n",
              "\n",
              "    <script>\n",
              "      const buttonEl =\n",
              "        document.querySelector('#df-35bb0392-77ab-4b89-9e2e-a893a3829b6a button.colab-df-convert');\n",
              "      buttonEl.style.display =\n",
              "        google.colab.kernel.accessAllowed ? 'block' : 'none';\n",
              "\n",
              "      async function convertToInteractive(key) {\n",
              "        const element = document.querySelector('#df-35bb0392-77ab-4b89-9e2e-a893a3829b6a');\n",
              "        const dataTable =\n",
              "          await google.colab.kernel.invokeFunction('convertToInteractive',\n",
              "                                                    [key], {});\n",
              "        if (!dataTable) return;\n",
              "\n",
              "        const docLinkHtml = 'Like what you see? Visit the ' +\n",
              "          '<a target=\"_blank\" href=https://colab.research.google.com/notebooks/data_table.ipynb>data table notebook</a>'\n",
              "          + ' to learn more about interactive tables.';\n",
              "        element.innerHTML = '';\n",
              "        dataTable['output_type'] = 'display_data';\n",
              "        await google.colab.output.renderOutput(dataTable, element);\n",
              "        const docLink = document.createElement('div');\n",
              "        docLink.innerHTML = docLinkHtml;\n",
              "        element.appendChild(docLink);\n",
              "      }\n",
              "    </script>\n",
              "  </div>\n",
              "\n",
              "\n",
              "<div id=\"df-acae97ce-3e05-415f-88f7-58a731c1b3ca\">\n",
              "  <button class=\"colab-df-quickchart\" onclick=\"quickchart('df-acae97ce-3e05-415f-88f7-58a731c1b3ca')\"\n",
              "            title=\"Suggest charts\"\n",
              "            style=\"display:none;\">\n",
              "\n",
              "<svg xmlns=\"http://www.w3.org/2000/svg\" height=\"24px\"viewBox=\"0 0 24 24\"\n",
              "     width=\"24px\">\n",
              "    <g>\n",
              "        <path d=\"M19 3H5c-1.1 0-2 .9-2 2v14c0 1.1.9 2 2 2h14c1.1 0 2-.9 2-2V5c0-1.1-.9-2-2-2zM9 17H7v-7h2v7zm4 0h-2V7h2v10zm4 0h-2v-4h2v4z\"/>\n",
              "    </g>\n",
              "</svg>\n",
              "  </button>\n",
              "\n",
              "<style>\n",
              "  .colab-df-quickchart {\n",
              "      --bg-color: #E8F0FE;\n",
              "      --fill-color: #1967D2;\n",
              "      --hover-bg-color: #E2EBFA;\n",
              "      --hover-fill-color: #174EA6;\n",
              "      --disabled-fill-color: #AAA;\n",
              "      --disabled-bg-color: #DDD;\n",
              "  }\n",
              "\n",
              "  [theme=dark] .colab-df-quickchart {\n",
              "      --bg-color: #3B4455;\n",
              "      --fill-color: #D2E3FC;\n",
              "      --hover-bg-color: #434B5C;\n",
              "      --hover-fill-color: #FFFFFF;\n",
              "      --disabled-bg-color: #3B4455;\n",
              "      --disabled-fill-color: #666;\n",
              "  }\n",
              "\n",
              "  .colab-df-quickchart {\n",
              "    background-color: var(--bg-color);\n",
              "    border: none;\n",
              "    border-radius: 50%;\n",
              "    cursor: pointer;\n",
              "    display: none;\n",
              "    fill: var(--fill-color);\n",
              "    height: 32px;\n",
              "    padding: 0;\n",
              "    width: 32px;\n",
              "  }\n",
              "\n",
              "  .colab-df-quickchart:hover {\n",
              "    background-color: var(--hover-bg-color);\n",
              "    box-shadow: 0 1px 2px rgba(60, 64, 67, 0.3), 0 1px 3px 1px rgba(60, 64, 67, 0.15);\n",
              "    fill: var(--button-hover-fill-color);\n",
              "  }\n",
              "\n",
              "  .colab-df-quickchart-complete:disabled,\n",
              "  .colab-df-quickchart-complete:disabled:hover {\n",
              "    background-color: var(--disabled-bg-color);\n",
              "    fill: var(--disabled-fill-color);\n",
              "    box-shadow: none;\n",
              "  }\n",
              "\n",
              "  .colab-df-spinner {\n",
              "    border: 2px solid var(--fill-color);\n",
              "    border-color: transparent;\n",
              "    border-bottom-color: var(--fill-color);\n",
              "    animation:\n",
              "      spin 1s steps(1) infinite;\n",
              "  }\n",
              "\n",
              "  @keyframes spin {\n",
              "    0% {\n",
              "      border-color: transparent;\n",
              "      border-bottom-color: var(--fill-color);\n",
              "      border-left-color: var(--fill-color);\n",
              "    }\n",
              "    20% {\n",
              "      border-color: transparent;\n",
              "      border-left-color: var(--fill-color);\n",
              "      border-top-color: var(--fill-color);\n",
              "    }\n",
              "    30% {\n",
              "      border-color: transparent;\n",
              "      border-left-color: var(--fill-color);\n",
              "      border-top-color: var(--fill-color);\n",
              "      border-right-color: var(--fill-color);\n",
              "    }\n",
              "    40% {\n",
              "      border-color: transparent;\n",
              "      border-right-color: var(--fill-color);\n",
              "      border-top-color: var(--fill-color);\n",
              "    }\n",
              "    60% {\n",
              "      border-color: transparent;\n",
              "      border-right-color: var(--fill-color);\n",
              "    }\n",
              "    80% {\n",
              "      border-color: transparent;\n",
              "      border-right-color: var(--fill-color);\n",
              "      border-bottom-color: var(--fill-color);\n",
              "    }\n",
              "    90% {\n",
              "      border-color: transparent;\n",
              "      border-bottom-color: var(--fill-color);\n",
              "    }\n",
              "  }\n",
              "</style>\n",
              "\n",
              "  <script>\n",
              "    async function quickchart(key) {\n",
              "      const quickchartButtonEl =\n",
              "        document.querySelector('#' + key + ' button');\n",
              "      quickchartButtonEl.disabled = true;  // To prevent multiple clicks.\n",
              "      quickchartButtonEl.classList.add('colab-df-spinner');\n",
              "      try {\n",
              "        const charts = await google.colab.kernel.invokeFunction(\n",
              "            'suggestCharts', [key], {});\n",
              "      } catch (error) {\n",
              "        console.error('Error during call to suggestCharts:', error);\n",
              "      }\n",
              "      quickchartButtonEl.classList.remove('colab-df-spinner');\n",
              "      quickchartButtonEl.classList.add('colab-df-quickchart-complete');\n",
              "    }\n",
              "    (() => {\n",
              "      let quickchartButtonEl =\n",
              "        document.querySelector('#df-acae97ce-3e05-415f-88f7-58a731c1b3ca button');\n",
              "      quickchartButtonEl.style.display =\n",
              "        google.colab.kernel.accessAllowed ? 'block' : 'none';\n",
              "    })();\n",
              "  </script>\n",
              "</div>\n",
              "    </div>\n",
              "  </div>\n"
            ],
            "application/vnd.google.colaboratory.intrinsic+json": {
              "type": "dataframe",
              "variable_name": "df_additional",
              "summary": "{\n  \"name\": \"df_additional\",\n  \"rows\": 20700,\n  \"fields\": [\n    {\n      \"column\": \"ru\",\n      \"properties\": {\n        \"dtype\": \"string\",\n        \"num_unique_values\": 20534,\n        \"samples\": [\n          \"\\u041e\\u043d\\u0438 \\u0432\\u044b\\u0437\\u0432\\u0430\\u043d\\u044b \\u0442\\u0435\\u043c, \\u0447\\u0442\\u043e \\u0432 \\u043d\\u0430\\u0441\\u0442\\u043e\\u044f\\u0449\\u0435\\u0435 \\u0432\\u0440\\u0435\\u043c\\u044f \\u043d\\u0435 \\u0441\\u0443\\u0449\\u0435\\u0441\\u0442\\u0432\\u0443\\u0435\\u0442 \\u0438\\u043b\\u0438 \\u043d\\u0435 \\u0431\\u044b\\u043b\\u0438 \\u0434\\u043e\\u043f\\u0443\\u0449\\u0435\\u043d\\u044b \\u043a \\u043e\\u0448\\u0438\\u0431\\u043a\\u0430\\u043c \\u0432 \\u0441\\u043e\\u0437\\u043d\\u0430\\u043d\\u0438\\u0438, \\u0441\\u0432\\u044f\\u0437\\u0430\\u043d\\u043d\\u044b\\u043c \\u0441 \\u0438\\u0445 \\u0441\\u043e\\u0431\\u0441\\u0442\\u0432\\u0435\\u043d\\u043d\\u044b\\u043c \\u0441\\u0443\\u0449\\u0435\\u0441\\u0442\\u0432\\u043e\\u0432\\u0430\\u043d\\u0438\\u0435\\u043c.\",\n          \"\\u0425\\u0430\\u0440\\u0430\\u043a\\u0442\\u0435\\u0440\\u044b \\u0443\\u0433\\u043e\\u043b\\u043e\\u0432\\u043d\\u043e\\u0439 \\u043e\\u0442\\u0432\\u0435\\u0442\\u0441\\u0442\\u0432\\u0435\\u043d\\u043d\\u043e\\u0441\\u0442\\u0438 \\u0438 \\u043d\\u0430\\u043a\\u0430\\u0437\\u0430\\u043d\\u0438\\u044f \\u043d\\u0435\\u0441\\u043e\\u0432\\u0435\\u0440\\u0448\\u0435\\u043d\\u043d\\u043e\\u043b\\u0435\\u0442\\u043d\\u0438\\u0445\",\n          \"\\u042d\\u0442\\u043e \\u0442\\u043e, \\u0447\\u0442\\u043e \\u043f\\u0440\\u043e\\u0438\\u0441\\u0445\\u043e\\u0434\\u0438\\u0442 \\u0442\\u043e\\u043b\\u044c\\u043a\\u043e \\u0447\\u0435\\u0440\\u0435\\u0437 \\u043f\\u0440\\u043e\\u0445\\u043e\\u0434.\"\n        ],\n        \"semantic_type\": \"\",\n        \"description\": \"\"\n      }\n    },\n    {\n      \"column\": \"tyv\",\n      \"properties\": {\n        \"dtype\": \"string\",\n        \"num_unique_values\": 20624,\n        \"samples\": [\n          \"\\u041a\\u043e\\u0440\\u0430\\u0431\\u043b\\u044c\\u0434\\u0435\\u0440 \\u044d\\u0440\\u0438\\u043a \\u0447\\u043e\\u043e\\u0433\\u0443\\u043d\\u0433\\u0430 \\u04e9\\u0440\\u0442\\u0435\\u0433\\u043b\\u0435\\u0440\\u0434\\u0435 \\u0442\\u0443\\u0440\\u0433\\u0443\\u043b\\u0430\\u0430\\u043d.\",\n          \"\\u042b\\u0442\\u0442\\u0430\\u0440\\u043d\\u044b\\u04a3 \\u0431\\u0430\\u043b\\u044b\\u0433\\u043b\\u0430\\u043d\\u0433\\u0430\\u043d \\u0434\\u0430\\u0432\\u0430\\u043d\\u043d\\u0430\\u0440\\u044b\\u043d \\u0441\\u0430\\u0440\\u043b\\u044b\\u043a \\u0434\\u04af\\u0433\\u04af-\\u0431\\u0438\\u043b\\u0435 \\u0448\\u0430\\u0440\\u044b\\u043f \\u0431\\u044d\\u044d\\u0440 \\u0442\\u0443\\u0440\\u0434\\u0443\\u0432\\u0443\\u0441.\",\n          \"\\u0421\\u043e\\u0433\\u0443\\u043d\\u043d\\u0443\\u04a3 \\u0448\\u0438\\u0448 \\u0431\\u0430\\u0436\\u044b \\u0431\\u043e\\u043b\\u0433\\u0430\\u0448 \\u0447\\u04af\\u0433\\u043b\\u0435\\u0440\\u0438 \\u043a\\u0430\\u0439\\u0433\\u0430\\u043c\\u0447\\u044b\\u043a \\u043d\\u0430\\u0440\\u044b\\u043d \\u0431\\u043e\\u043b\\u0433\\u0430\\u0448 \\u0447\\u0430\\u0440\\u0430\\u0448 \\u0431\\u043e\\u043b\\u0433\\u0430\\u043d.\"\n        ],\n        \"semantic_type\": \"\",\n        \"description\": \"\"\n      }\n    }\n  ]\n}"
            }
          },
          "metadata": {},
          "execution_count": 8
        }
      ]
    },
    {
      "cell_type": "code",
      "source": [
        "df_additional.to_csv('paraphrased_trans_df.csv')\n",
        "\n",
        "from google.colab import files\n",
        "\n",
        "files.download('paraphrased_trans_df.csv')"
      ],
      "metadata": {
        "colab": {
          "base_uri": "https://localhost:8080/",
          "height": 17
        },
        "id": "mVwdvRf8jcnQ",
        "outputId": "acd12f92-d5d9-44f7-8599-10ce9132e83f"
      },
      "execution_count": 10,
      "outputs": [
        {
          "output_type": "display_data",
          "data": {
            "text/plain": [
              "<IPython.core.display.Javascript object>"
            ],
            "application/javascript": [
              "\n",
              "    async function download(id, filename, size) {\n",
              "      if (!google.colab.kernel.accessAllowed) {\n",
              "        return;\n",
              "      }\n",
              "      const div = document.createElement('div');\n",
              "      const label = document.createElement('label');\n",
              "      label.textContent = `Downloading \"${filename}\": `;\n",
              "      div.appendChild(label);\n",
              "      const progress = document.createElement('progress');\n",
              "      progress.max = size;\n",
              "      div.appendChild(progress);\n",
              "      document.body.appendChild(div);\n",
              "\n",
              "      const buffers = [];\n",
              "      let downloaded = 0;\n",
              "\n",
              "      const channel = await google.colab.kernel.comms.open(id);\n",
              "      // Send a message to notify the kernel that we're ready.\n",
              "      channel.send({})\n",
              "\n",
              "      for await (const message of channel.messages) {\n",
              "        // Send a message to notify the kernel that we're ready.\n",
              "        channel.send({})\n",
              "        if (message.buffers) {\n",
              "          for (const buffer of message.buffers) {\n",
              "            buffers.push(buffer);\n",
              "            downloaded += buffer.byteLength;\n",
              "            progress.value = downloaded;\n",
              "          }\n",
              "        }\n",
              "      }\n",
              "      const blob = new Blob(buffers, {type: 'application/binary'});\n",
              "      const a = document.createElement('a');\n",
              "      a.href = window.URL.createObjectURL(blob);\n",
              "      a.download = filename;\n",
              "      div.appendChild(a);\n",
              "      a.click();\n",
              "      div.remove();\n",
              "    }\n",
              "  "
            ]
          },
          "metadata": {}
        },
        {
          "output_type": "display_data",
          "data": {
            "text/plain": [
              "<IPython.core.display.Javascript object>"
            ],
            "application/javascript": [
              "download(\"download_60f37448-896c-4d9f-8d83-23c84b5e6fca\", \"paraphrased_trans_df.csv\", 6583238)"
            ]
          },
          "metadata": {}
        }
      ]
    },
    {
      "cell_type": "code",
      "source": [
        "final_trans_df = pd.concat([df_additional, trans_df], axis = 0)\n",
        "final_trans_df.reset_index(drop = True, inplace = True)\n",
        "final_trans_df.fillna('train', inplace = True)\n",
        "final_trans_df"
      ],
      "metadata": {
        "colab": {
          "base_uri": "https://localhost:8080/",
          "height": 580
        },
        "id": "QGg39cD3jPzI",
        "outputId": "389dc13e-3dac-4f3c-a843-118c28c3fdec"
      },
      "execution_count": 12,
      "outputs": [
        {
          "output_type": "execute_result",
          "data": {
            "text/plain": [
              "                                                                                                         ru  \\\n",
              "0                                                             Листьи должны быть очищены в течение 5 минут.   \n",
              "1                                            Поэтому вы можете начать учиться помогать другим и служить им.   \n",
              "2                     После прошлых дней Елизавет, его жена, начала болтать и ехать в течение пяти месяцев.   \n",
              "3                  И вы увидите Сына человека, сидящего на силе человека и направляющегося к облакам небес.   \n",
              "4                                                                  Он был профессором и помощником пастора.   \n",
              "...                                                                                                     ...   \n",
              "138877                                                                                  Черновицкая область   \n",
              "138878                                                                                           физический   \n",
              "138879                                                                                        храбрый баран   \n",
              "138880                                                        Вы вправе верить или не верить учению Библии.   \n",
              "138881  Когда-то в незапамятные временв бодхисатва Авалокитешвара дал клятву Будде Амитабхе и тысячам бу...   \n",
              "\n",
              "                                                                                                        tyv  \\\n",
              "0                                               савой капустазының бүрүлерин 5 минуттуң дургузунда чымчадыр   \n",
              "1               Ынчангаш өскелерге дузалап база оларның чаагай чоруу дээш бараан болуп эгелеп шыдаар силер.   \n",
              "2       Элээн үе эрткен соонда, ооң кадайы Елисавета иштели бергеш, оозун беш ай дургузунда өске улустан...   \n",
              "3       Моон соңгаар силер шупту Кижи амытан Оглунуң Күчүлүг Бурганның оң талазында олурарын база дээрни...   \n",
              "4                    ол башкының болгаш хүрээниң удуртукчу башкызының дузалакчызының ажылын күүседип турган   \n",
              "...                                                                                                     ...   \n",
              "138877                                                                                        Черновиц можу   \n",
              "138878                                                                                                  күш   \n",
              "138879                                                                                         дидим кошкар   \n",
              "138880                                 Библияның өөредиинге бүзүрээрин, бүзүревезин боттарыңар билир силер.   \n",
              "138881  Ченрези бурган Амитабха бурганның болгаш бо үе-чаданың муң буддаларының мурнунга амылыг амытанна...   \n",
              "\n",
              "        split  \n",
              "0       train  \n",
              "1       train  \n",
              "2       train  \n",
              "3       train  \n",
              "4       train  \n",
              "...       ...  \n",
              "138877    dev  \n",
              "138878  train  \n",
              "138879  train  \n",
              "138880  train  \n",
              "138881  train  \n",
              "\n",
              "[138882 rows x 3 columns]"
            ],
            "text/html": [
              "\n",
              "  <div id=\"df-36f0d1ad-cc92-4594-a053-15878784ea5e\" class=\"colab-df-container\">\n",
              "    <div>\n",
              "<style scoped>\n",
              "    .dataframe tbody tr th:only-of-type {\n",
              "        vertical-align: middle;\n",
              "    }\n",
              "\n",
              "    .dataframe tbody tr th {\n",
              "        vertical-align: top;\n",
              "    }\n",
              "\n",
              "    .dataframe thead th {\n",
              "        text-align: right;\n",
              "    }\n",
              "</style>\n",
              "<table border=\"1\" class=\"dataframe\">\n",
              "  <thead>\n",
              "    <tr style=\"text-align: right;\">\n",
              "      <th></th>\n",
              "      <th>ru</th>\n",
              "      <th>tyv</th>\n",
              "      <th>split</th>\n",
              "    </tr>\n",
              "  </thead>\n",
              "  <tbody>\n",
              "    <tr>\n",
              "      <th>0</th>\n",
              "      <td>Листьи должны быть очищены в течение 5 минут.</td>\n",
              "      <td>савой капустазының бүрүлерин 5 минуттуң дургузунда чымчадыр</td>\n",
              "      <td>train</td>\n",
              "    </tr>\n",
              "    <tr>\n",
              "      <th>1</th>\n",
              "      <td>Поэтому вы можете начать учиться помогать другим и служить им.</td>\n",
              "      <td>Ынчангаш өскелерге дузалап база оларның чаагай чоруу дээш бараан болуп эгелеп шыдаар силер.</td>\n",
              "      <td>train</td>\n",
              "    </tr>\n",
              "    <tr>\n",
              "      <th>2</th>\n",
              "      <td>После прошлых дней Елизавет, его жена, начала болтать и ехать в течение пяти месяцев.</td>\n",
              "      <td>Элээн үе эрткен соонда, ооң кадайы Елисавета иштели бергеш, оозун беш ай дургузунда өске улустан...</td>\n",
              "      <td>train</td>\n",
              "    </tr>\n",
              "    <tr>\n",
              "      <th>3</th>\n",
              "      <td>И вы увидите Сына человека, сидящего на силе человека и направляющегося к облакам небес.</td>\n",
              "      <td>Моон соңгаар силер шупту Кижи амытан Оглунуң Күчүлүг Бурганның оң талазында олурарын база дээрни...</td>\n",
              "      <td>train</td>\n",
              "    </tr>\n",
              "    <tr>\n",
              "      <th>4</th>\n",
              "      <td>Он был профессором и помощником пастора.</td>\n",
              "      <td>ол башкының болгаш хүрээниң удуртукчу башкызының дузалакчызының ажылын күүседип турган</td>\n",
              "      <td>train</td>\n",
              "    </tr>\n",
              "    <tr>\n",
              "      <th>...</th>\n",
              "      <td>...</td>\n",
              "      <td>...</td>\n",
              "      <td>...</td>\n",
              "    </tr>\n",
              "    <tr>\n",
              "      <th>138877</th>\n",
              "      <td>Черновицкая область</td>\n",
              "      <td>Черновиц можу</td>\n",
              "      <td>dev</td>\n",
              "    </tr>\n",
              "    <tr>\n",
              "      <th>138878</th>\n",
              "      <td>физический</td>\n",
              "      <td>күш</td>\n",
              "      <td>train</td>\n",
              "    </tr>\n",
              "    <tr>\n",
              "      <th>138879</th>\n",
              "      <td>храбрый баран</td>\n",
              "      <td>дидим кошкар</td>\n",
              "      <td>train</td>\n",
              "    </tr>\n",
              "    <tr>\n",
              "      <th>138880</th>\n",
              "      <td>Вы вправе верить или не верить учению Библии.</td>\n",
              "      <td>Библияның өөредиинге бүзүрээрин, бүзүревезин боттарыңар билир силер.</td>\n",
              "      <td>train</td>\n",
              "    </tr>\n",
              "    <tr>\n",
              "      <th>138881</th>\n",
              "      <td>Когда-то в незапамятные временв бодхисатва Авалокитешвара дал клятву Будде Амитабхе и тысячам бу...</td>\n",
              "      <td>Ченрези бурган Амитабха бурганның болгаш бо үе-чаданың муң буддаларының мурнунга амылыг амытанна...</td>\n",
              "      <td>train</td>\n",
              "    </tr>\n",
              "  </tbody>\n",
              "</table>\n",
              "<p>138882 rows × 3 columns</p>\n",
              "</div>\n",
              "    <div class=\"colab-df-buttons\">\n",
              "\n",
              "  <div class=\"colab-df-container\">\n",
              "    <button class=\"colab-df-convert\" onclick=\"convertToInteractive('df-36f0d1ad-cc92-4594-a053-15878784ea5e')\"\n",
              "            title=\"Convert this dataframe to an interactive table.\"\n",
              "            style=\"display:none;\">\n",
              "\n",
              "  <svg xmlns=\"http://www.w3.org/2000/svg\" height=\"24px\" viewBox=\"0 -960 960 960\">\n",
              "    <path d=\"M120-120v-720h720v720H120Zm60-500h600v-160H180v160Zm220 220h160v-160H400v160Zm0 220h160v-160H400v160ZM180-400h160v-160H180v160Zm440 0h160v-160H620v160ZM180-180h160v-160H180v160Zm440 0h160v-160H620v160Z\"/>\n",
              "  </svg>\n",
              "    </button>\n",
              "\n",
              "  <style>\n",
              "    .colab-df-container {\n",
              "      display:flex;\n",
              "      gap: 12px;\n",
              "    }\n",
              "\n",
              "    .colab-df-convert {\n",
              "      background-color: #E8F0FE;\n",
              "      border: none;\n",
              "      border-radius: 50%;\n",
              "      cursor: pointer;\n",
              "      display: none;\n",
              "      fill: #1967D2;\n",
              "      height: 32px;\n",
              "      padding: 0 0 0 0;\n",
              "      width: 32px;\n",
              "    }\n",
              "\n",
              "    .colab-df-convert:hover {\n",
              "      background-color: #E2EBFA;\n",
              "      box-shadow: 0px 1px 2px rgba(60, 64, 67, 0.3), 0px 1px 3px 1px rgba(60, 64, 67, 0.15);\n",
              "      fill: #174EA6;\n",
              "    }\n",
              "\n",
              "    .colab-df-buttons div {\n",
              "      margin-bottom: 4px;\n",
              "    }\n",
              "\n",
              "    [theme=dark] .colab-df-convert {\n",
              "      background-color: #3B4455;\n",
              "      fill: #D2E3FC;\n",
              "    }\n",
              "\n",
              "    [theme=dark] .colab-df-convert:hover {\n",
              "      background-color: #434B5C;\n",
              "      box-shadow: 0px 1px 3px 1px rgba(0, 0, 0, 0.15);\n",
              "      filter: drop-shadow(0px 1px 2px rgba(0, 0, 0, 0.3));\n",
              "      fill: #FFFFFF;\n",
              "    }\n",
              "  </style>\n",
              "\n",
              "    <script>\n",
              "      const buttonEl =\n",
              "        document.querySelector('#df-36f0d1ad-cc92-4594-a053-15878784ea5e button.colab-df-convert');\n",
              "      buttonEl.style.display =\n",
              "        google.colab.kernel.accessAllowed ? 'block' : 'none';\n",
              "\n",
              "      async function convertToInteractive(key) {\n",
              "        const element = document.querySelector('#df-36f0d1ad-cc92-4594-a053-15878784ea5e');\n",
              "        const dataTable =\n",
              "          await google.colab.kernel.invokeFunction('convertToInteractive',\n",
              "                                                    [key], {});\n",
              "        if (!dataTable) return;\n",
              "\n",
              "        const docLinkHtml = 'Like what you see? Visit the ' +\n",
              "          '<a target=\"_blank\" href=https://colab.research.google.com/notebooks/data_table.ipynb>data table notebook</a>'\n",
              "          + ' to learn more about interactive tables.';\n",
              "        element.innerHTML = '';\n",
              "        dataTable['output_type'] = 'display_data';\n",
              "        await google.colab.output.renderOutput(dataTable, element);\n",
              "        const docLink = document.createElement('div');\n",
              "        docLink.innerHTML = docLinkHtml;\n",
              "        element.appendChild(docLink);\n",
              "      }\n",
              "    </script>\n",
              "  </div>\n",
              "\n",
              "\n",
              "<div id=\"df-d624372b-dab0-4e3a-b481-39efc8ff3815\">\n",
              "  <button class=\"colab-df-quickchart\" onclick=\"quickchart('df-d624372b-dab0-4e3a-b481-39efc8ff3815')\"\n",
              "            title=\"Suggest charts\"\n",
              "            style=\"display:none;\">\n",
              "\n",
              "<svg xmlns=\"http://www.w3.org/2000/svg\" height=\"24px\"viewBox=\"0 0 24 24\"\n",
              "     width=\"24px\">\n",
              "    <g>\n",
              "        <path d=\"M19 3H5c-1.1 0-2 .9-2 2v14c0 1.1.9 2 2 2h14c1.1 0 2-.9 2-2V5c0-1.1-.9-2-2-2zM9 17H7v-7h2v7zm4 0h-2V7h2v10zm4 0h-2v-4h2v4z\"/>\n",
              "    </g>\n",
              "</svg>\n",
              "  </button>\n",
              "\n",
              "<style>\n",
              "  .colab-df-quickchart {\n",
              "      --bg-color: #E8F0FE;\n",
              "      --fill-color: #1967D2;\n",
              "      --hover-bg-color: #E2EBFA;\n",
              "      --hover-fill-color: #174EA6;\n",
              "      --disabled-fill-color: #AAA;\n",
              "      --disabled-bg-color: #DDD;\n",
              "  }\n",
              "\n",
              "  [theme=dark] .colab-df-quickchart {\n",
              "      --bg-color: #3B4455;\n",
              "      --fill-color: #D2E3FC;\n",
              "      --hover-bg-color: #434B5C;\n",
              "      --hover-fill-color: #FFFFFF;\n",
              "      --disabled-bg-color: #3B4455;\n",
              "      --disabled-fill-color: #666;\n",
              "  }\n",
              "\n",
              "  .colab-df-quickchart {\n",
              "    background-color: var(--bg-color);\n",
              "    border: none;\n",
              "    border-radius: 50%;\n",
              "    cursor: pointer;\n",
              "    display: none;\n",
              "    fill: var(--fill-color);\n",
              "    height: 32px;\n",
              "    padding: 0;\n",
              "    width: 32px;\n",
              "  }\n",
              "\n",
              "  .colab-df-quickchart:hover {\n",
              "    background-color: var(--hover-bg-color);\n",
              "    box-shadow: 0 1px 2px rgba(60, 64, 67, 0.3), 0 1px 3px 1px rgba(60, 64, 67, 0.15);\n",
              "    fill: var(--button-hover-fill-color);\n",
              "  }\n",
              "\n",
              "  .colab-df-quickchart-complete:disabled,\n",
              "  .colab-df-quickchart-complete:disabled:hover {\n",
              "    background-color: var(--disabled-bg-color);\n",
              "    fill: var(--disabled-fill-color);\n",
              "    box-shadow: none;\n",
              "  }\n",
              "\n",
              "  .colab-df-spinner {\n",
              "    border: 2px solid var(--fill-color);\n",
              "    border-color: transparent;\n",
              "    border-bottom-color: var(--fill-color);\n",
              "    animation:\n",
              "      spin 1s steps(1) infinite;\n",
              "  }\n",
              "\n",
              "  @keyframes spin {\n",
              "    0% {\n",
              "      border-color: transparent;\n",
              "      border-bottom-color: var(--fill-color);\n",
              "      border-left-color: var(--fill-color);\n",
              "    }\n",
              "    20% {\n",
              "      border-color: transparent;\n",
              "      border-left-color: var(--fill-color);\n",
              "      border-top-color: var(--fill-color);\n",
              "    }\n",
              "    30% {\n",
              "      border-color: transparent;\n",
              "      border-left-color: var(--fill-color);\n",
              "      border-top-color: var(--fill-color);\n",
              "      border-right-color: var(--fill-color);\n",
              "    }\n",
              "    40% {\n",
              "      border-color: transparent;\n",
              "      border-right-color: var(--fill-color);\n",
              "      border-top-color: var(--fill-color);\n",
              "    }\n",
              "    60% {\n",
              "      border-color: transparent;\n",
              "      border-right-color: var(--fill-color);\n",
              "    }\n",
              "    80% {\n",
              "      border-color: transparent;\n",
              "      border-right-color: var(--fill-color);\n",
              "      border-bottom-color: var(--fill-color);\n",
              "    }\n",
              "    90% {\n",
              "      border-color: transparent;\n",
              "      border-bottom-color: var(--fill-color);\n",
              "    }\n",
              "  }\n",
              "</style>\n",
              "\n",
              "  <script>\n",
              "    async function quickchart(key) {\n",
              "      const quickchartButtonEl =\n",
              "        document.querySelector('#' + key + ' button');\n",
              "      quickchartButtonEl.disabled = true;  // To prevent multiple clicks.\n",
              "      quickchartButtonEl.classList.add('colab-df-spinner');\n",
              "      try {\n",
              "        const charts = await google.colab.kernel.invokeFunction(\n",
              "            'suggestCharts', [key], {});\n",
              "      } catch (error) {\n",
              "        console.error('Error during call to suggestCharts:', error);\n",
              "      }\n",
              "      quickchartButtonEl.classList.remove('colab-df-spinner');\n",
              "      quickchartButtonEl.classList.add('colab-df-quickchart-complete');\n",
              "    }\n",
              "    (() => {\n",
              "      let quickchartButtonEl =\n",
              "        document.querySelector('#df-d624372b-dab0-4e3a-b481-39efc8ff3815 button');\n",
              "      quickchartButtonEl.style.display =\n",
              "        google.colab.kernel.accessAllowed ? 'block' : 'none';\n",
              "    })();\n",
              "  </script>\n",
              "</div>\n",
              "    </div>\n",
              "  </div>\n"
            ],
            "application/vnd.google.colaboratory.intrinsic+json": {
              "type": "dataframe",
              "variable_name": "final_trans_df"
            }
          },
          "metadata": {},
          "execution_count": 12
        }
      ]
    },
    {
      "cell_type": "code",
      "source": [
        "tokenizer = NllbTokenizer.from_pretrained('facebook/nllb-200-distilled-600M')"
      ],
      "metadata": {
        "colab": {
          "base_uri": "https://localhost:8080/"
        },
        "id": "yeyoBKbejP7B",
        "outputId": "e5385726-6b6a-4a08-8849-a29ed68a1984"
      },
      "execution_count": 14,
      "outputs": [
        {
          "output_type": "stream",
          "name": "stderr",
          "text": [
            "/usr/local/lib/python3.10/dist-packages/huggingface_hub/file_download.py:1132: FutureWarning: `resume_download` is deprecated and will be removed in version 1.0.0. Downloads always resume when possible. If you want to force a new download, use `force_download=True`.\n",
            "  warnings.warn(\n"
          ]
        }
      ]
    },
    {
      "cell_type": "code",
      "source": [
        "def word_tokenize(text):\n",
        "    return re.findall('(\\w+|[^\\w\\s])', text)\n",
        "\n",
        "texts_with_unk = [text for text in final_trans_df.tyv if tokenizer.unk_token_id in tokenizer(text).input_ids]\n",
        "print(len(texts_with_unk))"
      ],
      "metadata": {
        "execution": {
          "iopub.status.busy": "2024-05-18T11:04:36.764557Z",
          "iopub.execute_input": "2024-05-18T11:04:36.764857Z",
          "iopub.status.idle": "2024-05-18T11:05:06.157761Z",
          "shell.execute_reply.started": "2024-05-18T11:04:36.764834Z",
          "shell.execute_reply": "2024-05-18T11:05:06.156851Z"
        },
        "trusted": true,
        "colab": {
          "base_uri": "https://localhost:8080/"
        },
        "id": "Y9PKXwoJnUMM",
        "outputId": "a4b154ec-289f-49ba-945b-0ad6e1dbc11c"
      },
      "execution_count": 21,
      "outputs": [
        {
          "output_type": "stream",
          "name": "stdout",
          "text": [
            "6407\n"
          ]
        }
      ]
    },
    {
      "cell_type": "code",
      "source": [
        "mpn = MosesPunctNormalizer(lang=\"en\")\n",
        "mpn.substitutions = [\n",
        "    (re.compile(r), sub) for r, sub in mpn.substitutions\n",
        "]\n",
        "\n",
        "\n",
        "def get_non_printing_char_replacer(replace_by: str = \" \") -> tp.Callable[[str], str]:\n",
        "    non_printable_map = {\n",
        "        ord(c): replace_by\n",
        "        for c in (chr(i) for i in range(sys.maxunicode + 1))\n",
        "        if unicodedata.category(c) in {\"C\", \"Cc\", \"Cf\", \"Cs\", \"Co\", \"Cn\"}\n",
        "    }\n",
        "\n",
        "    def replace_non_printing_char(line) -> str:\n",
        "        return line.translate(non_printable_map)\n",
        "\n",
        "    return replace_non_printing_char\n",
        "\n",
        "replace_nonprint = get_non_printing_char_replacer(\" \")\n",
        "\n",
        "def preproc(text):\n",
        "    clean = mpn.normalize(text)\n",
        "    clean = replace_nonprint(clean)\n",
        "    clean = unicodedata.normalize(\"NFKC\", clean)\n",
        "    return clean"
      ],
      "metadata": {
        "execution": {
          "iopub.status.busy": "2024-05-18T11:05:06.159654Z",
          "iopub.execute_input": "2024-05-18T11:05:06.160018Z",
          "iopub.status.idle": "2024-05-18T11:05:06.832685Z",
          "shell.execute_reply.started": "2024-05-18T11:05:06.159984Z",
          "shell.execute_reply": "2024-05-18T11:05:06.831850Z"
        },
        "trusted": true,
        "id": "bnIRc3YynUMM"
      },
      "execution_count": 16,
      "outputs": []
    },
    {
      "cell_type": "code",
      "source": [
        "texts_with_unk_normed = [text for text in texts_with_unk if tokenizer.unk_token_id in tokenizer(preproc(text)).input_ids]\n",
        "print(len(texts_with_unk_normed))"
      ],
      "metadata": {
        "execution": {
          "iopub.status.busy": "2024-05-18T11:05:06.833744Z",
          "iopub.execute_input": "2024-05-18T11:05:06.834017Z",
          "iopub.status.idle": "2024-05-18T11:05:08.935777Z",
          "shell.execute_reply.started": "2024-05-18T11:05:06.833993Z",
          "shell.execute_reply": "2024-05-18T11:05:08.934814Z"
        },
        "trusted": true,
        "colab": {
          "base_uri": "https://localhost:8080/"
        },
        "id": "QRkzU5usnUMM",
        "outputId": "58981d50-4f34-4aa0-c961-8bec70a71ca3"
      },
      "execution_count": 22,
      "outputs": [
        {
          "output_type": "stream",
          "name": "stdout",
          "text": [
            "32\n"
          ]
        }
      ]
    },
    {
      "cell_type": "code",
      "source": [
        "def fix_tokenizer(tokenizer, new_lang='tyv_Cyrl'):\n",
        "    \"\"\"\n",
        "    Add a new language token to the tokenizer vocabulary\n",
        "    (this should be done each time after its initialization)\n",
        "    \"\"\"\n",
        "    old_len = len(tokenizer) - int(new_lang in tokenizer.added_tokens_encoder)\n",
        "    tokenizer.lang_code_to_id[new_lang] = old_len-1\n",
        "    tokenizer.id_to_lang_code[old_len-1] = new_lang\n",
        "    # always move \"mask\" to the last position\n",
        "    tokenizer.fairseq_tokens_to_ids[\"<mask>\"] = len(tokenizer.sp_model) + len(tokenizer.lang_code_to_id) + tokenizer.fairseq_offset\n",
        "\n",
        "    tokenizer.fairseq_tokens_to_ids.update(tokenizer.lang_code_to_id)\n",
        "    tokenizer.fairseq_ids_to_tokens = {v: k for k, v in tokenizer.fairseq_tokens_to_ids.items()}\n",
        "    if new_lang not in tokenizer._additional_special_tokens:\n",
        "        tokenizer._additional_special_tokens.append(new_lang)\n",
        "    # clear the added token encoder; otherwise a new token may end up there by mistake\n",
        "    tokenizer.added_tokens_encoder = {}\n",
        "    tokenizer.added_tokens_decoder = {}"
      ],
      "metadata": {
        "execution": {
          "iopub.status.busy": "2024-05-18T11:05:08.938470Z",
          "iopub.execute_input": "2024-05-18T11:05:08.938864Z",
          "iopub.status.idle": "2024-05-18T11:05:08.947997Z",
          "shell.execute_reply.started": "2024-05-18T11:05:08.938831Z",
          "shell.execute_reply": "2024-05-18T11:05:08.946935Z"
        },
        "trusted": true,
        "id": "xc4Nr1innUMN"
      },
      "execution_count": 19,
      "outputs": []
    },
    {
      "cell_type": "code",
      "source": [
        "fix_tokenizer(tokenizer)"
      ],
      "metadata": {
        "execution": {
          "iopub.status.busy": "2024-05-18T11:05:08.949139Z",
          "iopub.execute_input": "2024-05-18T11:05:08.949458Z",
          "iopub.status.idle": "2024-05-18T11:05:08.957039Z",
          "shell.execute_reply.started": "2024-05-18T11:05:08.949434Z",
          "shell.execute_reply": "2024-05-18T11:05:08.956057Z"
        },
        "trusted": true,
        "id": "8cq9f66mnUMN"
      },
      "execution_count": 20,
      "outputs": []
    },
    {
      "cell_type": "code",
      "source": [
        "print(tokenizer.convert_tokens_to_ids(['zul_Latn', 'tyv_Cyrl', '<mask>'])) # [256202, 256203, 256204]"
      ],
      "metadata": {
        "colab": {
          "base_uri": "https://localhost:8080/"
        },
        "id": "CBl1imhElqYK",
        "outputId": "41a5c9bf-2425-4e44-ce23-fc27eaa04132"
      },
      "execution_count": 23,
      "outputs": [
        {
          "output_type": "stream",
          "name": "stdout",
          "text": [
            "[256202, 256203, 256204]\n"
          ]
        }
      ]
    },
    {
      "cell_type": "code",
      "source": [
        "added_token_id = tokenizer.convert_tokens_to_ids('tyv_Cyrl')\n",
        "similar_lang_id = tokenizer.convert_tokens_to_ids('kir_Cyrl')\n",
        "print(added_token_id, similar_lang_id)"
      ],
      "metadata": {
        "execution": {
          "iopub.status.busy": "2024-05-18T11:05:08.958206Z",
          "iopub.execute_input": "2024-05-18T11:05:08.958588Z",
          "iopub.status.idle": "2024-05-18T11:05:08.967756Z",
          "shell.execute_reply.started": "2024-05-18T11:05:08.958562Z",
          "shell.execute_reply": "2024-05-18T11:05:08.966830Z"
        },
        "trusted": true,
        "colab": {
          "base_uri": "https://localhost:8080/"
        },
        "id": "VevblXwHnUMN",
        "outputId": "5ae26ff4-b206-4046-c9e6-89ed09d8108e"
      },
      "execution_count": 24,
      "outputs": [
        {
          "output_type": "stream",
          "name": "stdout",
          "text": [
            "256203 256095\n"
          ]
        }
      ]
    },
    {
      "cell_type": "code",
      "source": [
        "model = AutoModelForSeq2SeqLM.from_pretrained('facebook/nllb-200-distilled-600M')\n",
        "model.resize_token_embeddings(len(tokenizer))\n",
        "\n",
        "# moving the embedding for \"mask\" to its new position\n",
        "model.model.shared.weight.data[added_token_id+1] = model.model.shared.weight.data[added_token_id]\n",
        "# initializing new language token with a token of a similar language\n",
        "model.model.shared.weight.data[added_token_id] = model.model.shared.weight.data[similar_lang_id]"
      ],
      "metadata": {
        "execution": {
          "iopub.status.busy": "2024-05-18T11:05:15.046715Z",
          "iopub.execute_input": "2024-05-18T11:05:15.047071Z",
          "iopub.status.idle": "2024-05-18T11:05:35.267438Z",
          "shell.execute_reply.started": "2024-05-18T11:05:15.047041Z",
          "shell.execute_reply": "2024-05-18T11:05:35.266375Z"
        },
        "trusted": true,
        "colab": {
          "base_uri": "https://localhost:8080/"
        },
        "id": "o9XyMw6WnUMO",
        "outputId": "3632f842-85e9-48cf-ca23-c24cae9fc1de"
      },
      "execution_count": 25,
      "outputs": [
        {
          "output_type": "stream",
          "name": "stderr",
          "text": [
            "You are resizing the embedding layer without providing a `pad_to_multiple_of` parameter. This means that the new embedding dimension will be 256205. This might induce some performance reduction as *Tensor Cores* will not be available. For more details about this, or help on choosing the correct value for resizing, refer to this guide: https://docs.nvidia.com/deeplearning/performance/dl-performance-matrix-multiplication/index.html#requirements-tc\n"
          ]
        }
      ]
    },
    {
      "cell_type": "code",
      "source": [
        "df_train = final_trans_df[final_trans_df.split=='train'].copy()\n",
        "df_dev = final_trans_df[final_trans_df.split=='dev'].copy()\n",
        "df_test = final_trans_df[final_trans_df.split=='test'].copy()"
      ],
      "metadata": {
        "id": "kkhal3yBlLnY"
      },
      "execution_count": 26,
      "outputs": []
    },
    {
      "cell_type": "code",
      "source": [
        "def cleanup():\n",
        "    \"\"\"Try to free GPU memory\"\"\"\n",
        "    gc.collect()\n",
        "    torch.cuda.empty_cache()\n",
        "\n",
        "cleanup()"
      ],
      "metadata": {
        "execution": {
          "iopub.status.busy": "2024-05-18T12:00:07.524435Z",
          "iopub.execute_input": "2024-05-18T12:00:07.524855Z",
          "iopub.status.idle": "2024-05-18T12:00:08.107031Z",
          "shell.execute_reply.started": "2024-05-18T12:00:07.524824Z",
          "shell.execute_reply": "2024-05-18T12:00:08.105938Z"
        },
        "trusted": true,
        "id": "MXfKBV9enUMP",
        "colab": {
          "base_uri": "https://localhost:8080/"
        },
        "outputId": "967d9220-e833-49ef-b1be-cd5bf3f5c952"
      },
      "execution_count": 37,
      "outputs": [
        {
          "output_type": "stream",
          "name": "stderr",
          "text": [
            "\r  0%|          | 0/118182 [06:28<?, ?it/s]\n"
          ]
        }
      ]
    },
    {
      "cell_type": "code",
      "source": [
        "model.cuda();"
      ],
      "metadata": {
        "execution": {
          "iopub.status.busy": "2024-05-18T12:00:22.839153Z",
          "iopub.execute_input": "2024-05-18T12:00:22.839532Z",
          "iopub.status.idle": "2024-05-18T12:00:23.664816Z",
          "shell.execute_reply.started": "2024-05-18T12:00:22.839503Z",
          "shell.execute_reply": "2024-05-18T12:00:23.663827Z"
        },
        "trusted": true,
        "id": "NuJTMCRFnUMP"
      },
      "execution_count": 28,
      "outputs": []
    },
    {
      "cell_type": "code",
      "source": [
        "optimizer = Adafactor(\n",
        "    [p for p in model.parameters() if p.requires_grad],\n",
        "    scale_parameter=False,\n",
        "    relative_step=False,\n",
        "    lr=1e-4,\n",
        "    clip_threshold=1.0,\n",
        "    weight_decay=1e-3,\n",
        ")"
      ],
      "metadata": {
        "execution": {
          "iopub.status.busy": "2024-05-18T12:00:57.693300Z",
          "iopub.execute_input": "2024-05-18T12:00:57.693694Z",
          "iopub.status.idle": "2024-05-18T12:00:57.730176Z",
          "shell.execute_reply.started": "2024-05-18T12:00:57.693664Z",
          "shell.execute_reply": "2024-05-18T12:00:57.729396Z"
        },
        "trusted": true,
        "id": "O-ZnR_nVnUMP"
      },
      "execution_count": 38,
      "outputs": []
    },
    {
      "cell_type": "code",
      "source": [
        "batch_size = 8  # 32 already doesn't fit well to 15GB of GPU memory\n",
        "max_length = 128\n",
        "warmup_steps = 1_000\n",
        "training_steps = 57000"
      ],
      "metadata": {
        "execution": {
          "iopub.status.busy": "2024-05-18T12:00:58.765695Z",
          "iopub.execute_input": "2024-05-18T12:00:58.766100Z",
          "iopub.status.idle": "2024-05-18T12:00:58.771098Z",
          "shell.execute_reply.started": "2024-05-18T12:00:58.766062Z",
          "shell.execute_reply": "2024-05-18T12:00:58.770005Z"
        },
        "trusted": true,
        "id": "hizJbX5EnUMP"
      },
      "execution_count": 39,
      "outputs": []
    },
    {
      "cell_type": "code",
      "source": [
        "losses = []\n",
        "scheduler = get_constant_schedule_with_warmup(optimizer, num_warmup_steps=warmup_steps)"
      ],
      "metadata": {
        "execution": {
          "iopub.status.busy": "2024-05-18T12:00:59.040689Z",
          "iopub.execute_input": "2024-05-18T12:00:59.041010Z",
          "iopub.status.idle": "2024-05-18T12:00:59.045658Z",
          "shell.execute_reply.started": "2024-05-18T12:00:59.040982Z",
          "shell.execute_reply": "2024-05-18T12:00:59.044553Z"
        },
        "trusted": true,
        "id": "vNfEXKH-nUMQ"
      },
      "execution_count": 40,
      "outputs": []
    },
    {
      "cell_type": "code",
      "source": [
        "LANGS = [('ru', 'rus_Cyrl'), ('tyv', 'tyv_Cyrl')]\n",
        "\n",
        "def get_batch_pairs(batch_size, data=df_train):\n",
        "    (l1, long1), (l2, long2) = random.sample(LANGS, 2)\n",
        "    xx, yy = [], []\n",
        "    for _ in range(batch_size):\n",
        "        item = data.iloc[random.randint(0, len(data)-1)]\n",
        "        xx.append(preproc(item[l1]))\n",
        "        yy.append(preproc(item[l2]))\n",
        "    return xx, yy, long1, long2\n",
        "\n",
        "print(get_batch_pairs(1))\n",
        "# (['чеди'], ['семь'], 'tyv_Cyrl', 'rus_Cyrl')"
      ],
      "metadata": {
        "execution": {
          "iopub.status.busy": "2024-05-18T12:01:10.615724Z",
          "iopub.execute_input": "2024-05-18T12:01:10.616464Z",
          "iopub.status.idle": "2024-05-18T12:01:10.624993Z",
          "shell.execute_reply.started": "2024-05-18T12:01:10.616428Z",
          "shell.execute_reply": "2024-05-18T12:01:10.623907Z"
        },
        "trusted": true,
        "colab": {
          "base_uri": "https://localhost:8080/"
        },
        "id": "LnYRd02AnUMQ",
        "outputId": "09d93a21-4e26-4fa7-9e59-824f388260f8"
      },
      "execution_count": 41,
      "outputs": [
        {
          "output_type": "stream",
          "name": "stdout",
          "text": [
            "(['Амыдыралыңарны хынамчалыг сайгарып көрүңер.'], ['Тщательно анализируйте свою жизнь.'], 'tyv_Cyrl', 'rus_Cyrl')\n"
          ]
        }
      ]
    },
    {
      "cell_type": "code",
      "source": [
        "model.train()\n",
        "x, y, loss = None, None, None\n",
        "cleanup()\n",
        "\n",
        "tq = trange(len(losses), training_steps)\n",
        "for i in tq:\n",
        "    xx, yy, lang1, lang2 = get_batch_pairs(batch_size)\n",
        "    try:\n",
        "        tokenizer.src_lang = lang1\n",
        "        x = tokenizer(xx, return_tensors='pt', padding=True, truncation=True, max_length=max_length).to(model.device)\n",
        "        tokenizer.src_lang = lang2\n",
        "        y = tokenizer(yy, return_tensors='pt', padding=True, truncation=True, max_length=max_length).to(model.device)\n",
        "        y.input_ids[y.input_ids == tokenizer.pad_token_id] = -100\n",
        "\n",
        "        loss = model(**x, labels=y.input_ids).loss\n",
        "        loss.backward()\n",
        "        losses.append(loss.item())\n",
        "\n",
        "        optimizer.step()\n",
        "        optimizer.zero_grad(set_to_none=True)\n",
        "        scheduler.step()\n",
        "\n",
        "    except RuntimeError as e:\n",
        "        optimizer.zero_grad(set_to_none=True)\n",
        "        x, y, loss = None, None, None\n",
        "        cleanup()\n",
        "        print('error', max(len(s) for s in xx + yy), e)\n",
        "        continue\n",
        "\n",
        "    if i % 1000 == 0:\n",
        "        print(i, np.mean(losses[-1000:]))"
      ],
      "metadata": {
        "execution": {
          "iopub.status.busy": "2024-05-18T12:02:22.506529Z",
          "iopub.execute_input": "2024-05-18T12:02:22.507485Z"
        },
        "trusted": true,
        "colab": {
          "base_uri": "https://localhost:8080/",
          "height": 1000,
          "referenced_widgets": [
            "f9060f38631745b09e3b1453d8972b8a",
            "b7105af1434a4c0ab2bbb2fd2d66260c",
            "d09ec1ff52c84034954883a143696f0b",
            "96de350bd016420780da841d4de284c3",
            "58e52addde0049239c4a1fa6c4429a14",
            "85c9b2b347ec44629c8699bff459c53d",
            "8bc39119dfd14f88b3b0c64a57803939",
            "2b10832e0e30483895bc34454c715332",
            "c5004033073043a5a27e8433ece3fd10",
            "d696a773a3c348dc94447c38ec90b663",
            "9df247da7967437cb44ab12e9d3c791a"
          ]
        },
        "id": "9WLtA3UYnUMQ",
        "outputId": "1e993c69-8a44-459b-8102-f27850ec40f2"
      },
      "execution_count": 42,
      "outputs": [
        {
          "output_type": "display_data",
          "data": {
            "text/plain": [
              "  0%|          | 0/57000 [00:00<?, ?it/s]"
            ],
            "application/vnd.jupyter.widget-view+json": {
              "version_major": 2,
              "version_minor": 0,
              "model_id": "f9060f38631745b09e3b1453d8972b8a"
            }
          },
          "metadata": {}
        },
        {
          "output_type": "stream",
          "name": "stdout",
          "text": [
            "0 3.1366117000579834\n",
            "1000 3.6262112798690795\n",
            "2000 2.8237760759592057\n",
            "3000 2.5047398521900175\n",
            "4000 2.324418741822243\n",
            "5000 2.2005666251182556\n",
            "6000 2.0873896127045155\n",
            "7000 2.027278447687626\n",
            "8000 1.9688522835969926\n",
            "9000 1.8922372469902038\n",
            "10000 1.8676257490813732\n",
            "11000 1.7997244600057603\n",
            "12000 1.7845350207090378\n",
            "13000 1.7561063565611839\n",
            "14000 1.701417284667492\n",
            "15000 1.6525246150791646\n",
            "16000 1.626131786108017\n",
            "17000 1.6376177783608437\n",
            "18000 1.5787260026931762\n",
            "19000 1.5652936589121818\n",
            "20000 1.54176745313406\n",
            "21000 1.5359044693410397\n",
            "22000 1.4985012677609921\n",
            "23000 1.4803659324645997\n",
            "24000 1.4765393128395081\n",
            "25000 1.4392170442342758\n",
            "26000 1.4182337917685508\n",
            "27000 1.4207319084405898\n",
            "28000 1.4126310235857964\n",
            "29000 1.392201964467764\n",
            "30000 1.356795452773571\n",
            "31000 1.3414330648183823\n",
            "32000 1.3569754283726216\n",
            "33000 1.330353961676359\n",
            "34000 1.313110484391451\n",
            "35000 1.3338261473178863\n",
            "36000 1.2941644128262997\n",
            "37000 1.2737654349803924\n",
            "38000 1.2706284413039683\n",
            "39000 1.2421982955038549\n",
            "40000 1.2232240766584874\n",
            "41000 1.2207469860315323\n",
            "42000 1.2370417148768902\n",
            "43000 1.2062354891002178\n",
            "44000 1.2006150483191014\n",
            "45000 1.1863427146077157\n",
            "46000 1.1679971501529216\n",
            "47000 1.1732444062829017\n",
            "48000 1.1488783235400915\n",
            "49000 1.1503890903145075\n",
            "50000 1.126908625215292\n",
            "51000 1.1275359722226859\n",
            "52000 1.1321720763295888\n",
            "53000 1.122292997121811\n",
            "54000 1.0811250904053449\n",
            "55000 1.1010437231361867\n",
            "56000 1.0585471827089787\n"
          ]
        }
      ]
    },
    {
      "cell_type": "code",
      "source": [
        "pd.Series(losses).ewm(100).mean().plot();"
      ],
      "metadata": {
        "colab": {
          "base_uri": "https://localhost:8080/",
          "height": 430
        },
        "id": "Nf4ZtkawrTkF",
        "outputId": "ff6867ab-11f3-445c-a61a-cda0c75c6e22"
      },
      "execution_count": 44,
      "outputs": [
        {
          "output_type": "display_data",
          "data": {
            "text/plain": [
              "<Figure size 640x480 with 1 Axes>"
            ],
            "image/png": "[encoded data removed]"
          },
          "metadata": {}
        }
      ]
    },
    {
      "cell_type": "code",
      "source": [
        "def translate(text, src_lang='rus_Cyrl', tgt_lang='eng_Latn', a=32, b=3, max_input_length=1024, num_beams=4, **kwargs):\n",
        "    tokenizer.src_lang = src_lang\n",
        "    tokenizer.tgt_lang = tgt_lang\n",
        "    inputs = tokenizer(text, return_tensors='pt', padding=True, truncation=True, max_length=max_input_length)\n",
        "    result = model.generate(\n",
        "        **inputs.to(model.device),\n",
        "        forced_bos_token_id=tokenizer.convert_tokens_to_ids(tgt_lang),\n",
        "        max_new_tokens=int(a + b * inputs.input_ids.shape[1]),\n",
        "        num_beams=num_beams,\n",
        "        **kwargs\n",
        "    )\n",
        "    return tokenizer.batch_decode(result, skip_special_tokens=True)"
      ],
      "metadata": {
        "id": "xlI26ASUnUMQ"
      },
      "execution_count": 45,
      "outputs": []
    },
    {
      "cell_type": "code",
      "source": [
        "df_dev['rus_translated'] = [translate(t, 'tyv_Cyrl', 'rus_Cyrl')[0] for t in tqdm(df_dev.tyv)]\n",
        "df_dev['tyv_translated'] = [translate(t, 'rus_Cyrl', 'tyv_Cyrl')[0] for t in tqdm(df_dev.ru)]"
      ],
      "metadata": {
        "colab": {
          "base_uri": "https://localhost:8080/"
        },
        "id": "av8veZ5SraOH",
        "outputId": "6e7acbc6-ab4d-4633-e934-a6bc3b08f52d"
      },
      "execution_count": 46,
      "outputs": [
        {
          "output_type": "stream",
          "name": "stderr",
          "text": [
            "100%|██████████| 4999/4999 [34:06<00:00,  2.44it/s]\n",
            "100%|██████████| 4999/4999 [43:16<00:00,  1.93it/s]\n"
          ]
        }
      ]
    },
    {
      "cell_type": "code",
      "source": [
        "import sacrebleu\n",
        "bleu_calc = sacrebleu.BLEU()\n",
        "chrf_calc = sacrebleu.CHRF(word_order=2)  # this metric is called ChrF++"
      ],
      "metadata": {
        "id": "27_5jm8Nrkw6"
      },
      "execution_count": 47,
      "outputs": []
    },
    {
      "cell_type": "code",
      "source": [
        "print(bleu_calc.corpus_score(df_dev['rus_translated'].tolist(), [df_dev['ru'].tolist()]))\n",
        "print(chrf_calc.corpus_score(df_dev['rus_translated'].tolist(), [df_dev['ru'].tolist()]))\n",
        "print(bleu_calc.corpus_score(df_dev['tyv_translated'].tolist(), [df_dev['tyv'].tolist()]))\n",
        "print(chrf_calc.corpus_score(df_dev['tyv_translated'].tolist(), [df_dev['tyv'].tolist()]))"
      ],
      "metadata": {
        "colab": {
          "base_uri": "https://localhost:8080/"
        },
        "id": "cF54NJ_9rlZP",
        "outputId": "f4aada0a-623d-45f4-e682-4edf4ee0d8d5"
      },
      "execution_count": 48,
      "outputs": [
        {
          "output_type": "stream",
          "name": "stdout",
          "text": [
            "BLEU = 15.90 42.9/20.7/11.3/6.4 (BP = 1.000 ratio = 1.021 hyp_len = 23687 ref_len = 23207)\n",
            "chrF2++ = 40.43\n",
            "BLEU = 16.75 45.4/22.3/12.1/6.8 (BP = 0.985 ratio = 0.985 hyp_len = 22843 ref_len = 23188)\n",
            "chrF2++ = 44.56\n"
          ]
        }
      ]
    },
    {
      "cell_type": "code",
      "source": [
        "!huggingface-cli login"
      ],
      "metadata": {
        "id": "zBIagTarrxOA",
        "colab": {
          "base_uri": "https://localhost:8080/"
        },
        "outputId": "6b529c62-d163-4803-eac5-def0ba08acd2"
      },
      "execution_count": 50,
      "outputs": [
        {
          "output_type": "stream",
          "name": "stdout",
          "text": [
            "\n",
            "    _|    _|  _|    _|    _|_|_|    _|_|_|  _|_|_|  _|      _|    _|_|_|      _|_|_|_|    _|_|      _|_|_|  _|_|_|_|\n",
            "    _|    _|  _|    _|  _|        _|          _|    _|_|    _|  _|            _|        _|    _|  _|        _|\n",
            "    _|_|_|_|  _|    _|  _|  _|_|  _|  _|_|    _|    _|  _|  _|  _|  _|_|      _|_|_|    _|_|_|_|  _|        _|_|_|\n",
            "    _|    _|  _|    _|  _|    _|  _|    _|    _|    _|    _|_|  _|    _|      _|        _|    _|  _|        _|\n",
            "    _|    _|    _|_|      _|_|_|    _|_|_|  _|_|_|  _|      _|    _|_|_|      _|        _|    _|    _|_|_|  _|_|_|_|\n",
            "\n",
            "    To login, `huggingface_hub` requires a token generated from https://huggingface.co/settings/tokens .\n",
            "Enter your token (input will not be visible): \n",
            "Add token as git credential? (Y/n) n\n",
            "Token is valid (permission: write).\n",
            "Your token has been saved to /root/.cache/huggingface/token\n",
            "Login successful\n"
          ]
        }
      ]
    },
    {
      "cell_type": "code",
      "source": [
        "upload_repo = \"Nacoor/nllb_600_paraphrase\"\n",
        "tokenizer.push_to_hub(upload_repo)\n",
        "model.push_to_hub(upload_repo)"
      ],
      "metadata": {
        "colab": {
          "base_uri": "https://localhost:8080/",
          "height": 158,
          "referenced_widgets": [
            "01c508ac3aeb481685b9140efecdbd26",
            "6f558ef2871e4a3c83a37a741f31028e",
            "5b722d9f09a742f4805d98495a4260e3",
            "c7bbe9e95adb41358bc5b561332a23b1",
            "c4e6fd27610741deaa0a1c65fd238aba",
            "1b84146b6cd3466e97d068908b9eb49b",
            "be82ab1140324886bde315fa15497cd8",
            "ca0540b8efcc41c0b0ab7c48d4b8eb8e",
            "8e353ac3cf2f4b6c834083ee95c43e14",
            "2e51eb6100914ab7bfd6e3c476e637ba",
            "f781ca32ac7f4e7b8a3d8cd908d0aa4b",
            "2d853b22ed6a4f1fa10ef000e9b38380",
            "b8f243b058a945a88822b5db09a855da",
            "c369a5439c4c40a69e33f8ba963e95e4",
            "82c6c6690eeb45c990bde8c616719319",
            "294bf058233b4977bc6ea36bbdec248e",
            "2ffa04fce0b84d9bb8fddeff306fcf39",
            "e1c3510fcb914719907b34c72cad9c31",
            "be71fb8bbe474ac7a5b639857ce63e9f",
            "db2be9c015554ffcb63401b1513924c0",
            "1db0930f8ccc427eb76cb7289d276703",
            "97c0587b00294f858fd65f225a9ebacf"
          ]
        },
        "id": "lB5WxmqZJLY7",
        "outputId": "aa21e664-d665-4c74-ffdb-496015e7248c"
      },
      "execution_count": 51,
      "outputs": [
        {
          "output_type": "display_data",
          "data": {
            "text/plain": [
              "sentencepiece.bpe.model:   0%|          | 0.00/4.85M [00:00<?, ?B/s]"
            ],
            "application/vnd.jupyter.widget-view+json": {
              "version_major": 2,
              "version_minor": 0,
              "model_id": "01c508ac3aeb481685b9140efecdbd26"
            }
          },
          "metadata": {}
        },
        {
          "output_type": "display_data",
          "data": {
            "text/plain": [
              "pytorch_model.bin:   0%|          | 0.00/2.46G [00:00<?, ?B/s]"
            ],
            "application/vnd.jupyter.widget-view+json": {
              "version_major": 2,
              "version_minor": 0,
              "model_id": "2d853b22ed6a4f1fa10ef000e9b38380"
            }
          },
          "metadata": {}
        },
        {
          "output_type": "execute_result",
          "data": {
            "text/plain": [
              "CommitInfo(commit_url='https://huggingface.co/Nacoor/nllb_600_paraphrase/commit/45e1d6a9773f313842ecf869cdff368f6131f62d', commit_message='Upload M2M100ForConditionalGeneration', commit_description='', oid='45e1d6a9773f313842ecf869cdff368f6131f62d', pr_url=None, pr_revision=None, pr_num=None)"
            ],
            "application/vnd.google.colaboratory.intrinsic+json": {
              "type": "string"
            }
          },
          "metadata": {},
          "execution_count": 51
        }
      ]
    },
    {
      "cell_type": "code",
      "source": [
        "def translate(\n",
        "    text,\n",
        "    model,\n",
        "    tokenizer,\n",
        "    src_lang='rus_Cyrl',\n",
        "    tgt_lang='tyv_Cyrl',\n",
        "    max_length='auto',\n",
        "    num_beams=4,\n",
        "    no_repeat_ngram_size=4,\n",
        "    n_out=None,\n",
        "    **kwargs\n",
        "):\n",
        "    tokenizer.src_lang = src_lang\n",
        "    encoded = tokenizer(text, return_tensors=\"pt\", truncation=True, max_length=512)\n",
        "    if max_length == 'auto':\n",
        "        max_length = int(32 + 2.0 * encoded.input_ids.shape[1])\n",
        "    model.eval()\n",
        "    generated_tokens = model.generate(\n",
        "        **encoded.to(model.device),\n",
        "        forced_bos_token_id=tokenizer.lang_code_to_id[tgt_lang],\n",
        "        max_length=max_length,\n",
        "        num_beams=num_beams,\n",
        "        no_repeat_ngram_size=no_repeat_ngram_size,\n",
        "        num_return_sequences=n_out or 1,\n",
        "        **kwargs\n",
        "    )\n",
        "    out = tokenizer.batch_decode(generated_tokens, skip_special_tokens=True)\n",
        "    if isinstance(text, str) and n_out is None:\n",
        "        return out[0]\n",
        "    return out"
      ],
      "metadata": {
        "id": "DYifepsfJnVC"
      },
      "execution_count": 52,
      "outputs": []
    },
    {
      "cell_type": "code",
      "source": [
        "translate(\"когда моя мама приехала домой, мои друзья уже начали есть\", model=model, tokenizer=tokenizer)"
      ],
      "metadata": {
        "colab": {
          "base_uri": "https://localhost:8080/",
          "height": 36
        },
        "id": "lY4XTw9QJpnn",
        "outputId": "874718e3-0dd2-42f6-e4b9-3b41bbc30824"
      },
      "execution_count": 53,
      "outputs": [
        {
          "output_type": "execute_result",
          "data": {
            "text/plain": [
              "'кажан авам бажыңга чедип келгенде, эштерим чип эгеледи'"
            ],
            "application/vnd.google.colaboratory.intrinsic+json": {
              "type": "string"
            }
          },
          "metadata": {},
          "execution_count": 53
        }
      ]
    },
    {
      "cell_type": "code",
      "source": [
        "translate(\"сколько тебе лет исполнится в следующем году?\", model=model, tokenizer=tokenizer)"
      ],
      "metadata": {
        "colab": {
          "base_uri": "https://localhost:8080/",
          "height": 36
        },
        "id": "EcdMuJmLb6Ql",
        "outputId": "aad6fc0f-fedc-4792-f8d9-5786a854f811"
      },
      "execution_count": 54,
      "outputs": [
        {
          "output_type": "execute_result",
          "data": {
            "text/plain": [
              "'дараазында чылын каш харлыг болур сен?'"
            ],
            "application/vnd.google.colaboratory.intrinsic+json": {
              "type": "string"
            }
          },
          "metadata": {},
          "execution_count": 54
        }
      ]
    },
    {
      "cell_type": "code",
      "source": [],
      "metadata": {
        "id": "SQqlCqlShC7Z"
      },
      "execution_count": null,
      "outputs": []
    }
  ]
}